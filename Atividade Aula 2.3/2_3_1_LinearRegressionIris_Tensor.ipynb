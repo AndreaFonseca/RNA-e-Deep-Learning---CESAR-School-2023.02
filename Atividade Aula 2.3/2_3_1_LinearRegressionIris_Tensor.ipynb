{
  "nbformat": 4,
  "nbformat_minor": 0,
  "metadata": {
    "colab": {
      "provenance": []
    },
    "kernelspec": {
      "display_name": "Python 3",
      "language": "python",
      "name": "python3"
    }
  },
  "cells": [
    {
      "cell_type": "markdown",
      "source": [
        "###Aluna: ANDRÉA FONSECA"
      ],
      "metadata": {
        "id": "5s--6bozffpP"
      }
    },
    {
      "cell_type": "markdown",
      "metadata": {
        "id": "FLBIxJCuhqix"
      },
      "source": [
        "# Exercício Regressão Linear com PyTorch"
      ]
    },
    {
      "cell_type": "markdown",
      "metadata": {
        "ExecuteTime": {
          "end_time": "2017-11-23T20:02:40.968451Z",
          "start_time": "2017-11-23T20:02:40.961876Z"
        },
        "id": "7ifi42Klhqix"
      },
      "source": [
        "Este notebook é um exercício baseado no notebook:\n",
        "- [LinearRegressionIrisNumPy.ipynb](LinearRegressionIrisNumPy.ipynb) feito em NumPy,\n",
        "\n",
        "O objetivo desse notebook é reescrevê-lo porém utilizando tensores do PyTorch.\n",
        "\n",
        "Os nomes das funções do PyTorch são próximas das funções do Torch original escrito\n",
        "na linguagem Lua, porém não são iguais."
      ]
    },
    {
      "cell_type": "markdown",
      "metadata": {
        "id": "y1KiGNl3hqi0"
      },
      "source": [
        "## Importação dos pacotes"
      ]
    },
    {
      "cell_type": "code",
      "metadata": {
        "id": "Dc4sTUIUiFDj",
        "colab": {
          "base_uri": "https://localhost:8080/"
        },
        "outputId": "ef121b25-8955-4d59-e158-3b9375dc07aa"
      },
      "source": [
        "# http://pytorch.org/\n",
        "from os.path import exists\n",
        "#!pip install numpy==1.15.0\n",
        "!pip install -q install wheel==0.34.2 setuptools\n",
        "\n",
        "from wheel.pep425tags import get_abbr_impl, get_impl_ver, get_abi_tag\n",
        "print(get_abbr_impl())\n",
        "platform = '{}{}-{}'.format(get_abbr_impl(), get_impl_ver(), get_abi_tag())\n",
        "cuda_output = !ldconfig -p|grep cudart.so|sed -e 's/.*\\.\\([0-9]*\\)\\.\\([0-9]*\\)$/cu\\1\\2/'\n",
        "accelerator = cuda_output[0] if exists('/dev/nvidia0') else 'cpu'\n",
        "\n",
        "#https://download.pytorch.org/whl/cpu/torch-0.4.1.post2-cp37-cp37m-linux_x86_64.whl\n",
        "!pip install -q http://download.pytorch.org/whl/{accelerator}/torch-0.4.1.post2-{platform}-linux_x86_64.whl torchvision\n",
        "import torch"
      ],
      "execution_count": 1,
      "outputs": [
        {
          "output_type": "stream",
          "name": "stdout",
          "text": [
            "cp\n",
            "\u001b[31m  ERROR: HTTP error 403 while getting http://download.pytorch.org/whl/cpu/torch-0.4.1.post2-cp310-cp310-linux_x86_64.whl\u001b[0m\u001b[31m\n",
            "\u001b[0m\u001b[31mERROR: Could not install requirement torch==0.4.1.post2 from http://download.pytorch.org/whl/cpu/torch-0.4.1.post2-cp310-cp310-linux_x86_64.whl because of HTTP error 403 Client Error: Forbidden for url: http://download.pytorch.org/whl/cpu/torch-0.4.1.post2-cp310-cp310-linux_x86_64.whl for URL http://download.pytorch.org/whl/cpu/torch-0.4.1.post2-cp310-cp310-linux_x86_64.whl\u001b[0m\u001b[31m\n",
            "\u001b[0m"
          ]
        }
      ]
    },
    {
      "cell_type": "code",
      "metadata": {
        "ExecuteTime": {
          "end_time": "2018-02-04T16:01:57.407205Z",
          "start_time": "2018-02-04T16:01:55.699674Z"
        },
        "id": "AjzEaCTrhqi1"
      },
      "source": [
        "%matplotlib inline\n",
        "import torch\n",
        "\n",
        "import matplotlib.pyplot as plt\n",
        "from sklearn.datasets import load_iris\n",
        "\n",
        "torch.manual_seed(1234)\n",
        "\n",
        "def print_assert(r):\n",
        "    if r:\n",
        "        return 'OK!'\n",
        "    else:\n",
        "        return 'Incorreto!'"
      ],
      "execution_count": 2,
      "outputs": []
    },
    {
      "cell_type": "markdown",
      "metadata": {
        "id": "T1KoBM1Khqi4"
      },
      "source": [
        "## Dataset"
      ]
    },
    {
      "cell_type": "markdown",
      "metadata": {
        "id": "8p8NrS7Lhqi5"
      },
      "source": [
        "### Leitura dos dados"
      ]
    },
    {
      "cell_type": "code",
      "metadata": {
        "ExecuteTime": {
          "end_time": "2018-02-04T16:01:58.800961Z",
          "start_time": "2018-02-04T16:01:58.778655Z"
        },
        "id": "bz2JpDCChqi6",
        "colab": {
          "base_uri": "https://localhost:8080/",
          "height": 449
        },
        "outputId": "49fa215b-2fa4-48a0-88de-d5ffe2b0a830"
      },
      "source": [
        "import pandas as pd\n",
        "iris = load_iris()\n",
        "data = iris.data[iris.target==1,::2]  # comprimento das sépalas e pétalas, indices 0 e 2\n",
        "\n",
        "x_in = data[:,0:1]\n",
        "y_in = data[:,1:2]\n",
        "\n",
        "x_train = torch.FloatTensor(x_in)\n",
        "y_train = torch.FloatTensor(y_in)\n",
        "\n",
        "n_samples = x_train.size(0)\n",
        "print('x_train.shape:',x_train.shape, type(x_train))\n",
        "print('y_train.shape:',y_train.shape, type(y_train))\n",
        "\n",
        "print('x_train[:5]:\\n', x_train[:5])\n",
        "print('y_train[:5]:\\n', y_train[:5])\n",
        "\n",
        "iris_pd = pd.DataFrame(x_in, columns=['x_in'])\n",
        "iris_pd['y_in'] = y_in\n",
        "iris_pd.head()"
      ],
      "execution_count": 3,
      "outputs": [
        {
          "output_type": "stream",
          "name": "stdout",
          "text": [
            "x_train.shape: torch.Size([50, 1]) <class 'torch.Tensor'>\n",
            "y_train.shape: torch.Size([50, 1]) <class 'torch.Tensor'>\n",
            "x_train[:5]:\n",
            " tensor([[7.0000],\n",
            "        [6.4000],\n",
            "        [6.9000],\n",
            "        [5.5000],\n",
            "        [6.5000]])\n",
            "y_train[:5]:\n",
            " tensor([[4.7000],\n",
            "        [4.5000],\n",
            "        [4.9000],\n",
            "        [4.0000],\n",
            "        [4.6000]])\n"
          ]
        },
        {
          "output_type": "execute_result",
          "data": {
            "text/plain": [
              "   x_in  y_in\n",
              "0   7.0   4.7\n",
              "1   6.4   4.5\n",
              "2   6.9   4.9\n",
              "3   5.5   4.0\n",
              "4   6.5   4.6"
            ],
            "text/html": [
              "\n",
              "  <div id=\"df-c36bbde2-4212-462e-b4aa-9ba120b5cde6\" class=\"colab-df-container\">\n",
              "    <div>\n",
              "<style scoped>\n",
              "    .dataframe tbody tr th:only-of-type {\n",
              "        vertical-align: middle;\n",
              "    }\n",
              "\n",
              "    .dataframe tbody tr th {\n",
              "        vertical-align: top;\n",
              "    }\n",
              "\n",
              "    .dataframe thead th {\n",
              "        text-align: right;\n",
              "    }\n",
              "</style>\n",
              "<table border=\"1\" class=\"dataframe\">\n",
              "  <thead>\n",
              "    <tr style=\"text-align: right;\">\n",
              "      <th></th>\n",
              "      <th>x_in</th>\n",
              "      <th>y_in</th>\n",
              "    </tr>\n",
              "  </thead>\n",
              "  <tbody>\n",
              "    <tr>\n",
              "      <th>0</th>\n",
              "      <td>7.0</td>\n",
              "      <td>4.7</td>\n",
              "    </tr>\n",
              "    <tr>\n",
              "      <th>1</th>\n",
              "      <td>6.4</td>\n",
              "      <td>4.5</td>\n",
              "    </tr>\n",
              "    <tr>\n",
              "      <th>2</th>\n",
              "      <td>6.9</td>\n",
              "      <td>4.9</td>\n",
              "    </tr>\n",
              "    <tr>\n",
              "      <th>3</th>\n",
              "      <td>5.5</td>\n",
              "      <td>4.0</td>\n",
              "    </tr>\n",
              "    <tr>\n",
              "      <th>4</th>\n",
              "      <td>6.5</td>\n",
              "      <td>4.6</td>\n",
              "    </tr>\n",
              "  </tbody>\n",
              "</table>\n",
              "</div>\n",
              "    <div class=\"colab-df-buttons\">\n",
              "\n",
              "  <div class=\"colab-df-container\">\n",
              "    <button class=\"colab-df-convert\" onclick=\"convertToInteractive('df-c36bbde2-4212-462e-b4aa-9ba120b5cde6')\"\n",
              "            title=\"Convert this dataframe to an interactive table.\"\n",
              "            style=\"display:none;\">\n",
              "\n",
              "  <svg xmlns=\"http://www.w3.org/2000/svg\" height=\"24px\" viewBox=\"0 -960 960 960\">\n",
              "    <path d=\"M120-120v-720h720v720H120Zm60-500h600v-160H180v160Zm220 220h160v-160H400v160Zm0 220h160v-160H400v160ZM180-400h160v-160H180v160Zm440 0h160v-160H620v160ZM180-180h160v-160H180v160Zm440 0h160v-160H620v160Z\"/>\n",
              "  </svg>\n",
              "    </button>\n",
              "\n",
              "  <style>\n",
              "    .colab-df-container {\n",
              "      display:flex;\n",
              "      gap: 12px;\n",
              "    }\n",
              "\n",
              "    .colab-df-convert {\n",
              "      background-color: #E8F0FE;\n",
              "      border: none;\n",
              "      border-radius: 50%;\n",
              "      cursor: pointer;\n",
              "      display: none;\n",
              "      fill: #1967D2;\n",
              "      height: 32px;\n",
              "      padding: 0 0 0 0;\n",
              "      width: 32px;\n",
              "    }\n",
              "\n",
              "    .colab-df-convert:hover {\n",
              "      background-color: #E2EBFA;\n",
              "      box-shadow: 0px 1px 2px rgba(60, 64, 67, 0.3), 0px 1px 3px 1px rgba(60, 64, 67, 0.15);\n",
              "      fill: #174EA6;\n",
              "    }\n",
              "\n",
              "    .colab-df-buttons div {\n",
              "      margin-bottom: 4px;\n",
              "    }\n",
              "\n",
              "    [theme=dark] .colab-df-convert {\n",
              "      background-color: #3B4455;\n",
              "      fill: #D2E3FC;\n",
              "    }\n",
              "\n",
              "    [theme=dark] .colab-df-convert:hover {\n",
              "      background-color: #434B5C;\n",
              "      box-shadow: 0px 1px 3px 1px rgba(0, 0, 0, 0.15);\n",
              "      filter: drop-shadow(0px 1px 2px rgba(0, 0, 0, 0.3));\n",
              "      fill: #FFFFFF;\n",
              "    }\n",
              "  </style>\n",
              "\n",
              "    <script>\n",
              "      const buttonEl =\n",
              "        document.querySelector('#df-c36bbde2-4212-462e-b4aa-9ba120b5cde6 button.colab-df-convert');\n",
              "      buttonEl.style.display =\n",
              "        google.colab.kernel.accessAllowed ? 'block' : 'none';\n",
              "\n",
              "      async function convertToInteractive(key) {\n",
              "        const element = document.querySelector('#df-c36bbde2-4212-462e-b4aa-9ba120b5cde6');\n",
              "        const dataTable =\n",
              "          await google.colab.kernel.invokeFunction('convertToInteractive',\n",
              "                                                    [key], {});\n",
              "        if (!dataTable) return;\n",
              "\n",
              "        const docLinkHtml = 'Like what you see? Visit the ' +\n",
              "          '<a target=\"_blank\" href=https://colab.research.google.com/notebooks/data_table.ipynb>data table notebook</a>'\n",
              "          + ' to learn more about interactive tables.';\n",
              "        element.innerHTML = '';\n",
              "        dataTable['output_type'] = 'display_data';\n",
              "        await google.colab.output.renderOutput(dataTable, element);\n",
              "        const docLink = document.createElement('div');\n",
              "        docLink.innerHTML = docLinkHtml;\n",
              "        element.appendChild(docLink);\n",
              "      }\n",
              "    </script>\n",
              "  </div>\n",
              "\n",
              "\n",
              "<div id=\"df-de0321ac-381e-4397-ab0c-6a61aa61e333\">\n",
              "  <button class=\"colab-df-quickchart\" onclick=\"quickchart('df-de0321ac-381e-4397-ab0c-6a61aa61e333')\"\n",
              "            title=\"Suggest charts\"\n",
              "            style=\"display:none;\">\n",
              "\n",
              "<svg xmlns=\"http://www.w3.org/2000/svg\" height=\"24px\"viewBox=\"0 0 24 24\"\n",
              "     width=\"24px\">\n",
              "    <g>\n",
              "        <path d=\"M19 3H5c-1.1 0-2 .9-2 2v14c0 1.1.9 2 2 2h14c1.1 0 2-.9 2-2V5c0-1.1-.9-2-2-2zM9 17H7v-7h2v7zm4 0h-2V7h2v10zm4 0h-2v-4h2v4z\"/>\n",
              "    </g>\n",
              "</svg>\n",
              "  </button>\n",
              "\n",
              "<style>\n",
              "  .colab-df-quickchart {\n",
              "      --bg-color: #E8F0FE;\n",
              "      --fill-color: #1967D2;\n",
              "      --hover-bg-color: #E2EBFA;\n",
              "      --hover-fill-color: #174EA6;\n",
              "      --disabled-fill-color: #AAA;\n",
              "      --disabled-bg-color: #DDD;\n",
              "  }\n",
              "\n",
              "  [theme=dark] .colab-df-quickchart {\n",
              "      --bg-color: #3B4455;\n",
              "      --fill-color: #D2E3FC;\n",
              "      --hover-bg-color: #434B5C;\n",
              "      --hover-fill-color: #FFFFFF;\n",
              "      --disabled-bg-color: #3B4455;\n",
              "      --disabled-fill-color: #666;\n",
              "  }\n",
              "\n",
              "  .colab-df-quickchart {\n",
              "    background-color: var(--bg-color);\n",
              "    border: none;\n",
              "    border-radius: 50%;\n",
              "    cursor: pointer;\n",
              "    display: none;\n",
              "    fill: var(--fill-color);\n",
              "    height: 32px;\n",
              "    padding: 0;\n",
              "    width: 32px;\n",
              "  }\n",
              "\n",
              "  .colab-df-quickchart:hover {\n",
              "    background-color: var(--hover-bg-color);\n",
              "    box-shadow: 0 1px 2px rgba(60, 64, 67, 0.3), 0 1px 3px 1px rgba(60, 64, 67, 0.15);\n",
              "    fill: var(--button-hover-fill-color);\n",
              "  }\n",
              "\n",
              "  .colab-df-quickchart-complete:disabled,\n",
              "  .colab-df-quickchart-complete:disabled:hover {\n",
              "    background-color: var(--disabled-bg-color);\n",
              "    fill: var(--disabled-fill-color);\n",
              "    box-shadow: none;\n",
              "  }\n",
              "\n",
              "  .colab-df-spinner {\n",
              "    border: 2px solid var(--fill-color);\n",
              "    border-color: transparent;\n",
              "    border-bottom-color: var(--fill-color);\n",
              "    animation:\n",
              "      spin 1s steps(1) infinite;\n",
              "  }\n",
              "\n",
              "  @keyframes spin {\n",
              "    0% {\n",
              "      border-color: transparent;\n",
              "      border-bottom-color: var(--fill-color);\n",
              "      border-left-color: var(--fill-color);\n",
              "    }\n",
              "    20% {\n",
              "      border-color: transparent;\n",
              "      border-left-color: var(--fill-color);\n",
              "      border-top-color: var(--fill-color);\n",
              "    }\n",
              "    30% {\n",
              "      border-color: transparent;\n",
              "      border-left-color: var(--fill-color);\n",
              "      border-top-color: var(--fill-color);\n",
              "      border-right-color: var(--fill-color);\n",
              "    }\n",
              "    40% {\n",
              "      border-color: transparent;\n",
              "      border-right-color: var(--fill-color);\n",
              "      border-top-color: var(--fill-color);\n",
              "    }\n",
              "    60% {\n",
              "      border-color: transparent;\n",
              "      border-right-color: var(--fill-color);\n",
              "    }\n",
              "    80% {\n",
              "      border-color: transparent;\n",
              "      border-right-color: var(--fill-color);\n",
              "      border-bottom-color: var(--fill-color);\n",
              "    }\n",
              "    90% {\n",
              "      border-color: transparent;\n",
              "      border-bottom-color: var(--fill-color);\n",
              "    }\n",
              "  }\n",
              "</style>\n",
              "\n",
              "  <script>\n",
              "    async function quickchart(key) {\n",
              "      const quickchartButtonEl =\n",
              "        document.querySelector('#' + key + ' button');\n",
              "      quickchartButtonEl.disabled = true;  // To prevent multiple clicks.\n",
              "      quickchartButtonEl.classList.add('colab-df-spinner');\n",
              "      try {\n",
              "        const charts = await google.colab.kernel.invokeFunction(\n",
              "            'suggestCharts', [key], {});\n",
              "      } catch (error) {\n",
              "        console.error('Error during call to suggestCharts:', error);\n",
              "      }\n",
              "      quickchartButtonEl.classList.remove('colab-df-spinner');\n",
              "      quickchartButtonEl.classList.add('colab-df-quickchart-complete');\n",
              "    }\n",
              "    (() => {\n",
              "      let quickchartButtonEl =\n",
              "        document.querySelector('#df-de0321ac-381e-4397-ab0c-6a61aa61e333 button');\n",
              "      quickchartButtonEl.style.display =\n",
              "        google.colab.kernel.accessAllowed ? 'block' : 'none';\n",
              "    })();\n",
              "  </script>\n",
              "</div>\n",
              "    </div>\n",
              "  </div>\n"
            ],
            "application/vnd.google.colaboratory.intrinsic+json": {
              "type": "dataframe",
              "variable_name": "iris_pd",
              "summary": "{\n  \"name\": \"iris_pd\",\n  \"rows\": 50,\n  \"fields\": [\n    {\n      \"column\": \"x_in\",\n      \"properties\": {\n        \"dtype\": \"number\",\n        \"std\": 0.5161711470638634,\n        \"min\": 4.9,\n        \"max\": 7.0,\n        \"num_unique_values\": 21,\n        \"samples\": [\n          7.0,\n          6.2,\n          6.7\n        ],\n        \"semantic_type\": \"\",\n        \"description\": \"\"\n      }\n    },\n    {\n      \"column\": \"y_in\",\n      \"properties\": {\n        \"dtype\": \"number\",\n        \"std\": 0.46991097723995795,\n        \"min\": 3.0,\n        \"max\": 5.1,\n        \"num_unique_values\": 19,\n        \"samples\": [\n          4.7,\n          3.3,\n          4.1\n        ],\n        \"semantic_type\": \"\",\n        \"description\": \"\"\n      }\n    }\n  ]\n}"
            }
          },
          "metadata": {},
          "execution_count": 3
        }
      ]
    },
    {
      "cell_type": "markdown",
      "metadata": {
        "id": "EdDMPH5Ehqi_"
      },
      "source": [
        "### Normalização dos dados"
      ]
    },
    {
      "cell_type": "code",
      "metadata": {
        "ExecuteTime": {
          "end_time": "2018-02-04T16:02:00.272143Z",
          "start_time": "2018-02-04T16:02:00.266943Z"
        },
        "id": "CthUVnEBhqjB",
        "colab": {
          "base_uri": "https://localhost:8080/",
          "height": 466
        },
        "outputId": "fbebc428-5e0d-41ee-9161-a55ab0d77885"
      },
      "source": [
        "x_train -= x_train.min()\n",
        "x_train /= x_train.max()\n",
        "y_train -= y_train.min()\n",
        "y_train /= y_train.max()\n",
        "\n",
        "plt.scatter(x_train,y_train)\n",
        "plt.xlabel('Comprimento sepalas')\n",
        "plt.ylabel('Comprimento petalas')"
      ],
      "execution_count": 13,
      "outputs": [
        {
          "output_type": "execute_result",
          "data": {
            "text/plain": [
              "Text(0, 0.5, 'Comprimento petalas')"
            ]
          },
          "metadata": {},
          "execution_count": 13
        },
        {
          "output_type": "display_data",
          "data": {
            "text/plain": [
              "<Figure size 640x480 with 1 Axes>"
            ],
            "image/png": "[encoded data removed]"
          },
          "metadata": {}
        }
      ]
    },
    {
      "cell_type": "markdown",
      "metadata": {
        "id": "l6bRM0fZhqjD"
      },
      "source": [
        "### Exercício 1 - criação do `x_train_bias`"
      ]
    },
    {
      "cell_type": "markdown",
      "metadata": {
        "id": "19c3cPARhqjE"
      },
      "source": [
        "faça o `x_train_bias` ser uma matriz com 1s na primeira coluna e x_train na segunda coluna.\n",
        "\n",
        "\n",
        "\n",
        "\n",
        "Dica: você pode precisar da função [torch.cat](http://pytorch.org/docs/master/torch.html#torch.cat) e [torch.ones](http://pytorch.org/docs/master/torch.html#torch.ones)."
      ]
    },
    {
      "cell_type": "code",
      "metadata": {
        "id": "5CiVS_025I_q"
      },
      "source": [
        "ones = torch.ones(n_samples, 1)"
      ],
      "execution_count": 22,
      "outputs": []
    },
    {
      "cell_type": "code",
      "source": [
        "x_train_bias = torch.cat((ones, x_train), dim=1)\n",
        "print(x_train_bias.size())"
      ],
      "metadata": {
        "colab": {
          "base_uri": "https://localhost:8080/"
        },
        "id": "YGzh8fYQYq0t",
        "outputId": "a1b95e73-1bb9-4f22-d9cb-4834cfab69ae"
      },
      "execution_count": 23,
      "outputs": [
        {
          "output_type": "stream",
          "name": "stdout",
          "text": [
            "torch.Size([50, 2])\n"
          ]
        }
      ]
    },
    {
      "cell_type": "code",
      "metadata": {
        "ExecuteTime": {
          "end_time": "2018-02-04T16:02:06.278514Z",
          "start_time": "2018-02-04T16:02:06.268450Z"
        },
        "id": "TdpisrMYhqjI",
        "colab": {
          "base_uri": "https://localhost:8080/"
        },
        "outputId": "a4ba7b4e-c831-4a4a-cdca-669435a11f53"
      },
      "source": [
        "# Verificação do exercício - Execute para testar sua implementação\n",
        "\n",
        "print('x_train_bias é um tensor: {}'.format(print_assert(\n",
        "    isinstance(x_train_bias, torch.FloatTensor)\n",
        ")))\n",
        "\n",
        "\n",
        "print('tamanho do x_train_bias: {}'.format(print_assert(\n",
        "    x_train_bias.size() == torch.Size([50, 2])\n",
        ")))\n",
        "\n",
        "print('primeira coluna é só de uns: {}'.format(print_assert(\n",
        "    (x_train_bias[:, 0] - torch.ones(n_samples)).sum() == 0\n",
        ")))\n",
        "\n",
        "print('segunda coluna é igual a x_train: {}'.format(print_assert(\n",
        "    (x_train_bias[:, 1] - x_train.reshape(50)).sum() == 0\n",
        ")))\n"
      ],
      "execution_count": 24,
      "outputs": [
        {
          "output_type": "stream",
          "name": "stdout",
          "text": [
            "x_train_bias é um tensor: OK!\n",
            "tamanho do x_train_bias: OK!\n",
            "primeira coluna é só de uns: OK!\n",
            "segunda coluna é igual a x_train: OK!\n"
          ]
        }
      ]
    },
    {
      "cell_type": "code",
      "metadata": {
        "id": "LKUjD44n8gFZ",
        "colab": {
          "base_uri": "https://localhost:8080/"
        },
        "outputId": "31ce18ec-67b3-4f41-8d74-b7dc1882ff35"
      },
      "source": [
        "print(x_train_bias[:, 1].shape)\n",
        "print(x_train.shape)"
      ],
      "execution_count": 25,
      "outputs": [
        {
          "output_type": "stream",
          "name": "stdout",
          "text": [
            "torch.Size([50])\n",
            "torch.Size([50, 1])\n"
          ]
        }
      ]
    },
    {
      "cell_type": "markdown",
      "metadata": {
        "id": "Lg9Tq18khqjO"
      },
      "source": [
        "## Modelo da rede"
      ]
    },
    {
      "cell_type": "markdown",
      "metadata": {
        "id": "UR6aot_thqjO"
      },
      "source": [
        "### Definição da classe"
      ]
    },
    {
      "cell_type": "code",
      "metadata": {
        "ExecuteTime": {
          "end_time": "2018-02-04T16:02:09.598222Z",
          "start_time": "2018-02-04T16:02:09.591078Z"
        },
        "id": "_H18CQOXhqjP"
      },
      "source": [
        "class Net():\n",
        "    def __init__(self, n_in, n_out):\n",
        "        self.w = torch.Tensor(n_out, n_in)\n",
        "        self.w.uniform_(-0.1,0.1) #inicialização dos parâmetros\n",
        "\n",
        "    def forward(self, x_bias):\n",
        "        return x_bias.matmul(torch.t(self.w))"
      ],
      "execution_count": 55,
      "outputs": []
    },
    {
      "cell_type": "markdown",
      "metadata": {
        "id": "vj9y-Ck5hqjS"
      },
      "source": [
        "### Instanciando a rede"
      ]
    },
    {
      "cell_type": "code",
      "metadata": {
        "ExecuteTime": {
          "end_time": "2018-02-04T16:02:11.321744Z",
          "start_time": "2018-02-04T16:02:11.317928Z"
        },
        "id": "Hrmnfv3bhqjT"
      },
      "source": [
        "model = Net(2,1) # duas entradas e uma saída: entradas são os comprimentos de pétala e sépala e a saída é a classificação da flor"
      ],
      "execution_count": 56,
      "outputs": []
    },
    {
      "cell_type": "markdown",
      "metadata": {
        "id": "-Y-XBG1FhqjV"
      },
      "source": [
        "### Testando o predict da rede"
      ]
    },
    {
      "cell_type": "code",
      "metadata": {
        "ExecuteTime": {
          "end_time": "2018-02-04T16:02:13.479757Z",
          "start_time": "2018-02-04T16:02:13.409349Z"
        },
        "id": "yhStqIqShqjV",
        "colab": {
          "base_uri": "https://localhost:8080/"
        },
        "outputId": "5ab74b48-ab0a-4495-c4e7-033942f8a8c2"
      },
      "source": [
        "model.forward(torch.ones((4,2)))"
      ],
      "execution_count": 57,
      "outputs": [
        {
          "output_type": "execute_result",
          "data": {
            "text/plain": [
              "tensor([[0.0628],\n",
              "        [0.0628],\n",
              "        [0.0628],\n",
              "        [0.0628]])"
            ]
          },
          "metadata": {},
          "execution_count": 57
        }
      ]
    },
    {
      "cell_type": "code",
      "source": [
        "# model.forward(torch.randn(4,2))"
      ],
      "metadata": {
        "colab": {
          "base_uri": "https://localhost:8080/"
        },
        "id": "47Le13JhZ57b",
        "outputId": "4ebc4adc-c0b9-49bd-8f45-9e437fe85d41"
      },
      "execution_count": 37,
      "outputs": [
        {
          "output_type": "execute_result",
          "data": {
            "text/plain": [
              "tensor([[ 0.0391],\n",
              "        [-0.0135],\n",
              "        [ 0.0158],\n",
              "        [-0.0117]])"
            ]
          },
          "metadata": {},
          "execution_count": 37
        }
      ]
    },
    {
      "cell_type": "markdown",
      "metadata": {
        "id": "4vanbhwdhqjZ"
      },
      "source": [
        "## Treinamento"
      ]
    },
    {
      "cell_type": "markdown",
      "metadata": {
        "id": "mYrL0yOnhqjb"
      },
      "source": [
        "### Exercício 2 - Treinamento"
      ]
    },
    {
      "cell_type": "markdown",
      "metadata": {
        "id": "ZCOpAvN5hqjb"
      },
      "source": [
        "Refaça o código de treinamento da rede, mas agora utilizando somente Tensores do PyTorch. Faça o mesmo procedimento que o notebook [LinearRegressionIrisNumPy](LinearRegressionIrisNumPy.ipynb). Para consultar as operações disponíveis no PyTorch use a [documentação do PyTorch](http://pytorch.org/docs/master/torch.html).\n",
        "\n",
        "Funções que podem ser úteis:\n",
        "- torch.t\n",
        "- torch.mean\n",
        "- torch.matmul"
      ]
    },
    {
      "cell_type": "code",
      "source": [
        "x_train_bias.t()"
      ],
      "metadata": {
        "colab": {
          "base_uri": "https://localhost:8080/"
        },
        "id": "qqD6ynjVa1R9",
        "outputId": "2af5bb5b-34ee-4166-c0dc-7d8954bb7d73"
      },
      "execution_count": 58,
      "outputs": [
        {
          "output_type": "execute_result",
          "data": {
            "text/plain": [
              "tensor([[1.0000, 1.0000, 1.0000, 1.0000, 1.0000, 1.0000, 1.0000, 1.0000, 1.0000,\n",
              "         1.0000, 1.0000, 1.0000, 1.0000, 1.0000, 1.0000, 1.0000, 1.0000, 1.0000,\n",
              "         1.0000, 1.0000, 1.0000, 1.0000, 1.0000, 1.0000, 1.0000, 1.0000, 1.0000,\n",
              "         1.0000, 1.0000, 1.0000, 1.0000, 1.0000, 1.0000, 1.0000, 1.0000, 1.0000,\n",
              "         1.0000, 1.0000, 1.0000, 1.0000, 1.0000, 1.0000, 1.0000, 1.0000, 1.0000,\n",
              "         1.0000, 1.0000, 1.0000, 1.0000, 1.0000],\n",
              "        [1.0000, 0.7143, 0.9524, 0.2857, 0.7619, 0.3810, 0.6667, 0.0000, 0.8095,\n",
              "         0.1429, 0.0476, 0.4762, 0.5238, 0.5714, 0.3333, 0.8571, 0.3333, 0.4286,\n",
              "         0.6190, 0.3333, 0.4762, 0.5714, 0.6667, 0.5714, 0.7143, 0.8095, 0.9048,\n",
              "         0.8571, 0.5238, 0.3810, 0.2857, 0.2857, 0.4286, 0.5238, 0.2381, 0.5238,\n",
              "         0.8571, 0.6667, 0.3333, 0.2857, 0.2857, 0.5714, 0.4286, 0.0476, 0.3333,\n",
              "         0.3810, 0.3810, 0.6190, 0.0952, 0.3810]])"
            ]
          },
          "metadata": {},
          "execution_count": 58
        }
      ]
    },
    {
      "cell_type": "code",
      "metadata": {
        "ExecuteTime": {
          "end_time": "2018-02-04T16:02:18.464526Z",
          "start_time": "2018-02-04T16:02:18.452463Z"
        },
        "scrolled": false,
        "id": "NEqW54M7hqji",
        "colab": {
          "base_uri": "https://localhost:8080/"
        },
        "outputId": "7dc7ea93-30e4-44f5-b5ca-d059514ef313"
      },
      "source": [
        "num_epochs = 100 # iterações de treinamento\n",
        "learning_rate = 0.5\n",
        "\n",
        "for epoch in range(num_epochs):\n",
        "\n",
        "    # forward - predict\n",
        "    y_pred = model.forward(x_train_bias)\n",
        "\n",
        "    #loss cálculo da função de perda (usando MSE)\n",
        "    loss = torch.mean((y_pred - y_train)**2)\n",
        "\n",
        "    # cálculo do gradiente pelas derivadas parciais\n",
        "    w_grad = (2.0/n_samples) * x_train_bias.t().matmul(x_train_bias.matmul(model.w.t()) - y_train)\n",
        "\n",
        "    # gradiente descendente\n",
        "    model.w = model.w - learning_rate * w_grad.t()\n",
        "\n",
        "    # verbose\n",
        "    if (epoch+1) % 20 == 0:\n",
        "        print('Epoch[{}/{}], loss: {:.6f}'\n",
        "              .format(epoch+1, num_epochs, loss))"
      ],
      "execution_count": 59,
      "outputs": [
        {
          "output_type": "stream",
          "name": "stdout",
          "text": [
            "Epoch[20/100], loss: 0.023408\n",
            "Epoch[40/100], loss: 0.021494\n",
            "Epoch[60/100], loss: 0.021216\n",
            "Epoch[80/100], loss: 0.021176\n",
            "Epoch[100/100], loss: 0.021170\n"
          ]
        }
      ]
    },
    {
      "cell_type": "markdown",
      "metadata": {
        "id": "fCU9-FTahqjo"
      },
      "source": [
        "### Valor ótimo, solução analítica"
      ]
    },
    {
      "cell_type": "markdown",
      "metadata": {
        "id": "mYnhoBb8hqjp"
      },
      "source": [
        "## Avaliação"
      ]
    },
    {
      "cell_type": "markdown",
      "metadata": {
        "id": "yK5vrBd1hqjq"
      },
      "source": [
        "### Predict"
      ]
    },
    {
      "cell_type": "code",
      "metadata": {
        "ExecuteTime": {
          "end_time": "2018-02-04T16:02:22.149118Z",
          "start_time": "2018-02-04T16:02:21.945738Z"
        },
        "id": "ieHyyJ25hqjr",
        "colab": {
          "base_uri": "https://localhost:8080/",
          "height": 430
        },
        "outputId": "cab39442-568c-4d93-950a-bdc69fbf6b73"
      },
      "source": [
        "y_pred = model.forward(x_train_bias)\n",
        "plt.plot(x_train.numpy(), y_train.numpy(), 'ro', label='Original data')\n",
        "plt.plot(x_train.numpy(), y_pred.numpy(), 'kx-', label='Fitting Line') # valores previstos\n",
        "plt.show()"
      ],
      "execution_count": 60,
      "outputs": [
        {
          "output_type": "display_data",
          "data": {
            "text/plain": [
              "<Figure size 640x480 with 1 Axes>"
            ],
            "image/png": "[encoded data removed]"
          },
          "metadata": {}
        }
      ]
    },
    {
      "cell_type": "markdown",
      "metadata": {
        "id": "h8pcSIHBhqjx"
      },
      "source": [
        "### Parâmetro treinado"
      ]
    },
    {
      "cell_type": "code",
      "metadata": {
        "ExecuteTime": {
          "end_time": "2018-02-04T16:02:25.042712Z",
          "start_time": "2018-02-04T16:02:25.035458Z"
        },
        "id": "uXLo4RF8hqjy",
        "colab": {
          "base_uri": "https://localhost:8080/"
        },
        "outputId": "b8ffc396-c5d5-4198-b921-df2d219da780"
      },
      "source": [
        "print(model.w) # pesos finais"
      ],
      "execution_count": 61,
      "outputs": [
        {
          "output_type": "stream",
          "name": "stdout",
          "text": [
            "tensor([[0.2633, 0.6826]])\n"
          ]
        }
      ]
    },
    {
      "cell_type": "code",
      "metadata": {
        "ExecuteTime": {
          "end_time": "2018-02-04T16:08:31.867782Z",
          "start_time": "2018-02-04T16:08:31.863719Z"
        },
        "id": "8To9Xp_7hqj1",
        "colab": {
          "base_uri": "https://localhost:8080/"
        },
        "outputId": "8545b206-32cc-41ca-92b8-6058ad8e2704"
      },
      "source": [
        "x_bias = x_train_bias\n",
        "y = y_train\n",
        "w_opt = (torch.inverse(x_bias.t().matmul(x_bias)).matmul(x_bias.t())).matmul(y)\n",
        "print(w_opt.t()) # pesos ótimos"
      ],
      "execution_count": 62,
      "outputs": [
        {
          "output_type": "stream",
          "name": "stdout",
          "text": [
            "tensor([[0.2613, 0.6865]])\n"
          ]
        }
      ]
    }
  ]
}