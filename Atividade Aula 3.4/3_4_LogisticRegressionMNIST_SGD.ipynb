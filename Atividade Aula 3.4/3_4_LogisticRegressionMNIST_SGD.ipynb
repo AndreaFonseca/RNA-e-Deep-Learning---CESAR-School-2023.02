{
  "cells": [
    {
      "cell_type": "markdown",
      "source": [
        "##Aluna: Andréa Fonseca"
      ],
      "metadata": {
        "id": "hEHMwCKvgLr_"
      }
    },
    {
      "cell_type": "markdown",
      "metadata": {
        "id": "gbTOc6cbl-eq"
      },
      "source": [
        "# Regressão Softmax com dados do MNIST utilizando gradiente descendente estocástico por minibatches"
      ]
    },
    {
      "cell_type": "markdown",
      "metadata": {
        "id": "C-IK0yRml-er"
      },
      "source": [
        "O objetivo deste notebook é ilustrar\n",
        "- o uso do gradiente estocástico por mini-batchs\n",
        "- utilizando as classes Dataset e DataLoater.\n",
        "\n",
        "A apresentação da perda nos gráficos é um pouco diferente da usual, mostrando a perda de cada um dos vários minibatches dentro de cada época, de forma que as épocas são apresentadas com valores fracionários."
      ]
    },
    {
      "cell_type": "markdown",
      "metadata": {
        "id": "mqqDXfr4l-et"
      },
      "source": [
        "## Importação das bibliotecas"
      ]
    },
    {
      "cell_type": "code",
      "execution_count": 1,
      "metadata": {
        "ExecuteTime": {
          "end_time": "2017-11-24T22:39:50.314578Z",
          "start_time": "2017-11-24T22:39:48.904460Z"
        },
        "id": "0Iry5pajl-eu"
      },
      "outputs": [],
      "source": [
        "%matplotlib inline\n",
        "import numpy as np\n",
        "import matplotlib.pyplot as plt\n",
        "\n",
        "import torch\n",
        "from torch.autograd import Variable\n",
        "from torch.utils.data import DataLoader\n",
        "\n",
        "import torchvision\n",
        "from torchvision.datasets import MNIST"
      ]
    },
    {
      "cell_type": "markdown",
      "metadata": {
        "id": "QqgILyIkl-ey"
      },
      "source": [
        "## Dataset e dataloader"
      ]
    },
    {
      "cell_type": "markdown",
      "metadata": {
        "id": "VAMBUN5ol-ez"
      },
      "source": [
        "### Definição do tamanho do minibatch"
      ]
    },
    {
      "cell_type": "code",
      "execution_count": 23,
      "metadata": {
        "ExecuteTime": {
          "end_time": "2017-11-24T22:39:50.323379Z",
          "start_time": "2017-11-24T22:39:50.318024Z"
        },
        "id": "1YGmeZtbl-ez"
      },
      "outputs": [],
      "source": [
        "batch_size = 1000"
      ]
    },
    {
      "cell_type": "markdown",
      "metadata": {
        "id": "3uaaezsvl-e5"
      },
      "source": [
        "### Carregamento, criação dataset e do dataloader"
      ]
    },
    {
      "cell_type": "code",
      "execution_count": 43,
      "metadata": {
        "ExecuteTime": {
          "end_time": "2017-11-24T22:39:50.400325Z",
          "start_time": "2017-11-24T22:39:50.326019Z"
        },
        "colab": {
          "base_uri": "https://localhost:8080/"
        },
        "id": "TRXgajEXl-e6",
        "outputId": "6a272258-030d-410d-8382-90d86e23f573"
      },
      "outputs": [
        {
          "output_type": "stream",
          "name": "stdout",
          "text": [
            "Número de minibatches de treinamento: 60\n",
            "\n",
            "Dimensões dos dados de um minibatch: torch.Size([1000, 1, 28, 28])\n",
            "Valores mínimo e máximo dos pixels:  tensor(0.) tensor(1.)\n",
            "Tipo dos dados das imagens:          <class 'torch.Tensor'>\n",
            "Tipo das classes das imagens:        <class 'torch.Tensor'>\n"
          ]
        }
      ],
      "source": [
        "dataset_dir = 'MNIST/'\n",
        "\n",
        "dataset_train = MNIST(dataset_dir, train=True, download=True,\n",
        "                      transform=torchvision.transforms.ToTensor())\n",
        "\n",
        "loader_train = DataLoader(dataset_train, batch_size=batch_size, shuffle=True)\n",
        "\n",
        "print('Número de minibatches de treinamento:', len(loader_train))\n",
        "\n",
        "x_train, y_train = next(iter(loader_train))\n",
        "print(\"\\nDimensões dos dados de um minibatch:\", x_train.size())\n",
        "print(\"Valores mínimo e máximo dos pixels: \", torch.min(x_train), torch.max(x_train))\n",
        "print(\"Tipo dos dados das imagens:         \", type(x_train))\n",
        "print(\"Tipo das classes das imagens:       \", type(y_train))"
      ]
    },
    {
      "cell_type": "markdown",
      "metadata": {
        "id": "Jalws0jHl-fB"
      },
      "source": [
        "### Usando todas as amostras do MNIST\n",
        "\n",
        "Neste exemplo utilizaremos todas as amostras de treinamento."
      ]
    },
    {
      "cell_type": "code",
      "execution_count": 44,
      "metadata": {
        "ExecuteTime": {
          "end_time": "2017-11-24T22:39:50.414117Z",
          "start_time": "2017-11-24T22:39:50.402687Z"
        },
        "colab": {
          "base_uri": "https://localhost:8080/"
        },
        "id": "TnFMMGDKl-fC",
        "outputId": "0d13570a-90e8-4216-c093-c0ceab2854e9"
      },
      "outputs": [
        {
          "output_type": "stream",
          "name": "stdout",
          "text": [
            "Número de minibatches de treinamento: 60\n"
          ]
        }
      ],
      "source": [
        "print('Número de minibatches de treinamento:', len(loader_train))\n",
        "n_batches_train = len(loader_train)\n",
        "total_samples = dataset_train.train_data.size(0)"
      ]
    },
    {
      "cell_type": "markdown",
      "metadata": {
        "id": "dz6ke_hfl-fF"
      },
      "source": [
        "## Modelo"
      ]
    },
    {
      "cell_type": "code",
      "execution_count": 45,
      "metadata": {
        "ExecuteTime": {
          "end_time": "2017-11-24T22:39:50.422994Z",
          "start_time": "2017-11-24T22:39:50.416568Z"
        },
        "id": "8iCWX43fl-fG"
      },
      "outputs": [],
      "source": [
        "model = torch.nn.Linear(28*28, 10)"
      ]
    },
    {
      "cell_type": "code",
      "execution_count": 46,
      "metadata": {
        "colab": {
          "base_uri": "https://localhost:8080/"
        },
        "id": "GrIFjo18dZ_L",
        "outputId": "44c7efae-1c92-46de-af0b-68ab39c7b274"
      },
      "outputs": [
        {
          "output_type": "stream",
          "name": "stdout",
          "text": [
            "torch.Size([1, 784])\n"
          ]
        },
        {
          "output_type": "execute_result",
          "data": {
            "text/plain": [
              "tensor([[-0.1393,  0.4937,  0.0833,  0.4824, -0.3542,  0.5174,  0.5596,  0.5974,\n",
              "         -0.3712,  0.6781]], grad_fn=<AddmmBackward0>)"
            ]
          },
          "metadata": {},
          "execution_count": 46
        }
      ],
      "source": [
        "x = torch.ones(28*28).reshape(1, 784)\n",
        "print(x.shape)\n",
        "predict = model(x)\n",
        "predict"
      ]
    },
    {
      "cell_type": "code",
      "source": [
        "x, y = dataset_train[0]"
      ],
      "metadata": {
        "id": "0kN0DcHuYkPH"
      },
      "execution_count": 47,
      "outputs": []
    },
    {
      "cell_type": "code",
      "source": [
        "x"
      ],
      "metadata": {
        "colab": {
          "base_uri": "https://localhost:8080/"
        },
        "id": "NEEEOLIkYzP7",
        "outputId": "1adb48d4-24b8-400f-93d6-a94365ad0a12"
      },
      "execution_count": 48,
      "outputs": [
        {
          "output_type": "execute_result",
          "data": {
            "text/plain": [
              "tensor([[[0.0000, 0.0000, 0.0000, 0.0000, 0.0000, 0.0000, 0.0000, 0.0000,\n",
              "          0.0000, 0.0000, 0.0000, 0.0000, 0.0000, 0.0000, 0.0000, 0.0000,\n",
              "          0.0000, 0.0000, 0.0000, 0.0000, 0.0000, 0.0000, 0.0000, 0.0000,\n",
              "          0.0000, 0.0000, 0.0000, 0.0000],\n",
              "         [0.0000, 0.0000, 0.0000, 0.0000, 0.0000, 0.0000, 0.0000, 0.0000,\n",
              "          0.0000, 0.0000, 0.0000, 0.0000, 0.0000, 0.0000, 0.0000, 0.0000,\n",
              "          0.0000, 0.0000, 0.0000, 0.0000, 0.0000, 0.0000, 0.0000, 0.0000,\n",
              "          0.0000, 0.0000, 0.0000, 0.0000],\n",
              "         [0.0000, 0.0000, 0.0000, 0.0000, 0.0000, 0.0000, 0.0000, 0.0000,\n",
              "          0.0000, 0.0000, 0.0000, 0.0000, 0.0000, 0.0000, 0.0000, 0.0000,\n",
              "          0.0000, 0.0000, 0.0000, 0.0000, 0.0000, 0.0000, 0.0000, 0.0000,\n",
              "          0.0000, 0.0000, 0.0000, 0.0000],\n",
              "         [0.0000, 0.0000, 0.0000, 0.0000, 0.0000, 0.0000, 0.0000, 0.0000,\n",
              "          0.0000, 0.0000, 0.0000, 0.0000, 0.0000, 0.0000, 0.0000, 0.0000,\n",
              "          0.0000, 0.0000, 0.0000, 0.0000, 0.0000, 0.0000, 0.0000, 0.0000,\n",
              "          0.0000, 0.0000, 0.0000, 0.0000],\n",
              "         [0.0000, 0.0000, 0.0000, 0.0000, 0.0000, 0.0000, 0.0000, 0.0000,\n",
              "          0.0000, 0.0000, 0.0000, 0.0000, 0.0000, 0.0000, 0.0000, 0.0000,\n",
              "          0.0000, 0.0000, 0.0000, 0.0000, 0.0000, 0.0000, 0.0000, 0.0000,\n",
              "          0.0000, 0.0000, 0.0000, 0.0000],\n",
              "         [0.0000, 0.0000, 0.0000, 0.0000, 0.0000, 0.0000, 0.0000, 0.0000,\n",
              "          0.0000, 0.0000, 0.0000, 0.0000, 0.0118, 0.0706, 0.0706, 0.0706,\n",
              "          0.4941, 0.5333, 0.6863, 0.1020, 0.6510, 1.0000, 0.9686, 0.4980,\n",
              "          0.0000, 0.0000, 0.0000, 0.0000],\n",
              "         [0.0000, 0.0000, 0.0000, 0.0000, 0.0000, 0.0000, 0.0000, 0.0000,\n",
              "          0.1176, 0.1412, 0.3686, 0.6039, 0.6667, 0.9922, 0.9922, 0.9922,\n",
              "          0.9922, 0.9922, 0.8824, 0.6745, 0.9922, 0.9490, 0.7647, 0.2510,\n",
              "          0.0000, 0.0000, 0.0000, 0.0000],\n",
              "         [0.0000, 0.0000, 0.0000, 0.0000, 0.0000, 0.0000, 0.0000, 0.1922,\n",
              "          0.9333, 0.9922, 0.9922, 0.9922, 0.9922, 0.9922, 0.9922, 0.9922,\n",
              "          0.9922, 0.9843, 0.3647, 0.3216, 0.3216, 0.2196, 0.1529, 0.0000,\n",
              "          0.0000, 0.0000, 0.0000, 0.0000],\n",
              "         [0.0000, 0.0000, 0.0000, 0.0000, 0.0000, 0.0000, 0.0000, 0.0706,\n",
              "          0.8588, 0.9922, 0.9922, 0.9922, 0.9922, 0.9922, 0.7765, 0.7137,\n",
              "          0.9686, 0.9451, 0.0000, 0.0000, 0.0000, 0.0000, 0.0000, 0.0000,\n",
              "          0.0000, 0.0000, 0.0000, 0.0000],\n",
              "         [0.0000, 0.0000, 0.0000, 0.0000, 0.0000, 0.0000, 0.0000, 0.0000,\n",
              "          0.3137, 0.6118, 0.4196, 0.9922, 0.9922, 0.8039, 0.0431, 0.0000,\n",
              "          0.1686, 0.6039, 0.0000, 0.0000, 0.0000, 0.0000, 0.0000, 0.0000,\n",
              "          0.0000, 0.0000, 0.0000, 0.0000],\n",
              "         [0.0000, 0.0000, 0.0000, 0.0000, 0.0000, 0.0000, 0.0000, 0.0000,\n",
              "          0.0000, 0.0549, 0.0039, 0.6039, 0.9922, 0.3529, 0.0000, 0.0000,\n",
              "          0.0000, 0.0000, 0.0000, 0.0000, 0.0000, 0.0000, 0.0000, 0.0000,\n",
              "          0.0000, 0.0000, 0.0000, 0.0000],\n",
              "         [0.0000, 0.0000, 0.0000, 0.0000, 0.0000, 0.0000, 0.0000, 0.0000,\n",
              "          0.0000, 0.0000, 0.0000, 0.5451, 0.9922, 0.7451, 0.0078, 0.0000,\n",
              "          0.0000, 0.0000, 0.0000, 0.0000, 0.0000, 0.0000, 0.0000, 0.0000,\n",
              "          0.0000, 0.0000, 0.0000, 0.0000],\n",
              "         [0.0000, 0.0000, 0.0000, 0.0000, 0.0000, 0.0000, 0.0000, 0.0000,\n",
              "          0.0000, 0.0000, 0.0000, 0.0431, 0.7451, 0.9922, 0.2745, 0.0000,\n",
              "          0.0000, 0.0000, 0.0000, 0.0000, 0.0000, 0.0000, 0.0000, 0.0000,\n",
              "          0.0000, 0.0000, 0.0000, 0.0000],\n",
              "         [0.0000, 0.0000, 0.0000, 0.0000, 0.0000, 0.0000, 0.0000, 0.0000,\n",
              "          0.0000, 0.0000, 0.0000, 0.0000, 0.1373, 0.9451, 0.8824, 0.6275,\n",
              "          0.4235, 0.0039, 0.0000, 0.0000, 0.0000, 0.0000, 0.0000, 0.0000,\n",
              "          0.0000, 0.0000, 0.0000, 0.0000],\n",
              "         [0.0000, 0.0000, 0.0000, 0.0000, 0.0000, 0.0000, 0.0000, 0.0000,\n",
              "          0.0000, 0.0000, 0.0000, 0.0000, 0.0000, 0.3176, 0.9412, 0.9922,\n",
              "          0.9922, 0.4667, 0.0980, 0.0000, 0.0000, 0.0000, 0.0000, 0.0000,\n",
              "          0.0000, 0.0000, 0.0000, 0.0000],\n",
              "         [0.0000, 0.0000, 0.0000, 0.0000, 0.0000, 0.0000, 0.0000, 0.0000,\n",
              "          0.0000, 0.0000, 0.0000, 0.0000, 0.0000, 0.0000, 0.1765, 0.7294,\n",
              "          0.9922, 0.9922, 0.5882, 0.1059, 0.0000, 0.0000, 0.0000, 0.0000,\n",
              "          0.0000, 0.0000, 0.0000, 0.0000],\n",
              "         [0.0000, 0.0000, 0.0000, 0.0000, 0.0000, 0.0000, 0.0000, 0.0000,\n",
              "          0.0000, 0.0000, 0.0000, 0.0000, 0.0000, 0.0000, 0.0000, 0.0627,\n",
              "          0.3647, 0.9882, 0.9922, 0.7333, 0.0000, 0.0000, 0.0000, 0.0000,\n",
              "          0.0000, 0.0000, 0.0000, 0.0000],\n",
              "         [0.0000, 0.0000, 0.0000, 0.0000, 0.0000, 0.0000, 0.0000, 0.0000,\n",
              "          0.0000, 0.0000, 0.0000, 0.0000, 0.0000, 0.0000, 0.0000, 0.0000,\n",
              "          0.0000, 0.9765, 0.9922, 0.9765, 0.2510, 0.0000, 0.0000, 0.0000,\n",
              "          0.0000, 0.0000, 0.0000, 0.0000],\n",
              "         [0.0000, 0.0000, 0.0000, 0.0000, 0.0000, 0.0000, 0.0000, 0.0000,\n",
              "          0.0000, 0.0000, 0.0000, 0.0000, 0.0000, 0.0000, 0.1804, 0.5098,\n",
              "          0.7176, 0.9922, 0.9922, 0.8118, 0.0078, 0.0000, 0.0000, 0.0000,\n",
              "          0.0000, 0.0000, 0.0000, 0.0000],\n",
              "         [0.0000, 0.0000, 0.0000, 0.0000, 0.0000, 0.0000, 0.0000, 0.0000,\n",
              "          0.0000, 0.0000, 0.0000, 0.0000, 0.1529, 0.5804, 0.8980, 0.9922,\n",
              "          0.9922, 0.9922, 0.9804, 0.7137, 0.0000, 0.0000, 0.0000, 0.0000,\n",
              "          0.0000, 0.0000, 0.0000, 0.0000],\n",
              "         [0.0000, 0.0000, 0.0000, 0.0000, 0.0000, 0.0000, 0.0000, 0.0000,\n",
              "          0.0000, 0.0000, 0.0941, 0.4471, 0.8667, 0.9922, 0.9922, 0.9922,\n",
              "          0.9922, 0.7882, 0.3059, 0.0000, 0.0000, 0.0000, 0.0000, 0.0000,\n",
              "          0.0000, 0.0000, 0.0000, 0.0000],\n",
              "         [0.0000, 0.0000, 0.0000, 0.0000, 0.0000, 0.0000, 0.0000, 0.0000,\n",
              "          0.0902, 0.2588, 0.8353, 0.9922, 0.9922, 0.9922, 0.9922, 0.7765,\n",
              "          0.3176, 0.0078, 0.0000, 0.0000, 0.0000, 0.0000, 0.0000, 0.0000,\n",
              "          0.0000, 0.0000, 0.0000, 0.0000],\n",
              "         [0.0000, 0.0000, 0.0000, 0.0000, 0.0000, 0.0000, 0.0706, 0.6706,\n",
              "          0.8588, 0.9922, 0.9922, 0.9922, 0.9922, 0.7647, 0.3137, 0.0353,\n",
              "          0.0000, 0.0000, 0.0000, 0.0000, 0.0000, 0.0000, 0.0000, 0.0000,\n",
              "          0.0000, 0.0000, 0.0000, 0.0000],\n",
              "         [0.0000, 0.0000, 0.0000, 0.0000, 0.2157, 0.6745, 0.8863, 0.9922,\n",
              "          0.9922, 0.9922, 0.9922, 0.9569, 0.5216, 0.0431, 0.0000, 0.0000,\n",
              "          0.0000, 0.0000, 0.0000, 0.0000, 0.0000, 0.0000, 0.0000, 0.0000,\n",
              "          0.0000, 0.0000, 0.0000, 0.0000],\n",
              "         [0.0000, 0.0000, 0.0000, 0.0000, 0.5333, 0.9922, 0.9922, 0.9922,\n",
              "          0.8314, 0.5294, 0.5176, 0.0627, 0.0000, 0.0000, 0.0000, 0.0000,\n",
              "          0.0000, 0.0000, 0.0000, 0.0000, 0.0000, 0.0000, 0.0000, 0.0000,\n",
              "          0.0000, 0.0000, 0.0000, 0.0000],\n",
              "         [0.0000, 0.0000, 0.0000, 0.0000, 0.0000, 0.0000, 0.0000, 0.0000,\n",
              "          0.0000, 0.0000, 0.0000, 0.0000, 0.0000, 0.0000, 0.0000, 0.0000,\n",
              "          0.0000, 0.0000, 0.0000, 0.0000, 0.0000, 0.0000, 0.0000, 0.0000,\n",
              "          0.0000, 0.0000, 0.0000, 0.0000],\n",
              "         [0.0000, 0.0000, 0.0000, 0.0000, 0.0000, 0.0000, 0.0000, 0.0000,\n",
              "          0.0000, 0.0000, 0.0000, 0.0000, 0.0000, 0.0000, 0.0000, 0.0000,\n",
              "          0.0000, 0.0000, 0.0000, 0.0000, 0.0000, 0.0000, 0.0000, 0.0000,\n",
              "          0.0000, 0.0000, 0.0000, 0.0000],\n",
              "         [0.0000, 0.0000, 0.0000, 0.0000, 0.0000, 0.0000, 0.0000, 0.0000,\n",
              "          0.0000, 0.0000, 0.0000, 0.0000, 0.0000, 0.0000, 0.0000, 0.0000,\n",
              "          0.0000, 0.0000, 0.0000, 0.0000, 0.0000, 0.0000, 0.0000, 0.0000,\n",
              "          0.0000, 0.0000, 0.0000, 0.0000]]])"
            ]
          },
          "metadata": {},
          "execution_count": 48
        }
      ]
    },
    {
      "cell_type": "markdown",
      "metadata": {
        "id": "kVDFEZBql-fJ"
      },
      "source": [
        "## Treinamento"
      ]
    },
    {
      "cell_type": "markdown",
      "metadata": {
        "id": "OUAeuSK6l-fJ"
      },
      "source": [
        "### Inicialização dos parâmetros"
      ]
    },
    {
      "cell_type": "code",
      "execution_count": 49,
      "metadata": {
        "ExecuteTime": {
          "end_time": "2017-11-24T22:39:50.433321Z",
          "start_time": "2017-11-24T22:39:50.426167Z"
        },
        "id": "XT5_fSiQl-fK"
      },
      "outputs": [],
      "source": [
        "n_epochs = 5\n",
        "learningRate = 0.5\n",
        "\n",
        "# Utilizaremos CrossEntropyLoss como função de perda\n",
        "criterion = torch.nn.CrossEntropyLoss()\n",
        "\n",
        "# Gradiente descendente\n",
        "optimizer = torch.optim.SGD(model.parameters(), lr=learningRate)"
      ]
    },
    {
      "cell_type": "markdown",
      "metadata": {
        "id": "-OM9OWI6l-fN"
      },
      "source": [
        "### Laço de treinamento dos parâmetros"
      ]
    },
    {
      "cell_type": "code",
      "execution_count": 50,
      "metadata": {
        "ExecuteTime": {
          "end_time": "2017-11-24T22:39:50.984972Z",
          "start_time": "2017-11-24T22:39:50.435673Z"
        },
        "id": "JvNVUUFTl-fQ"
      },
      "outputs": [],
      "source": [
        "epochs = []\n",
        "losses = []\n",
        "\n",
        "total_trained_samples = 0\n",
        "\n",
        "for i in range(n_epochs): # for da epoca\n",
        "\n",
        "    for k,(x_train, y_train) in enumerate(loader_train): # for do dataloader\n",
        "\n",
        "        # Transforma a entrada para uma dimensão\n",
        "        inputs = Variable(x_train.view(-1, 28 * 28))\n",
        "        # predict da rede\n",
        "        outputs = model(inputs)\n",
        "\n",
        "        # calcula a perda\n",
        "        loss = criterion(outputs, Variable(y_train))\n",
        "\n",
        "        # zero, backpropagation, ajusta parâmetros pelo gradiente descendente\n",
        "        optimizer.zero_grad()\n",
        "        loss.backward()\n",
        "        optimizer.step()\n",
        "\n",
        "        total_trained_samples += x_train.size(0)\n",
        "        epochs.append(total_trained_samples / total_samples)\n",
        "        losses.append(loss.data)"
      ]
    },
    {
      "cell_type": "code",
      "execution_count": 52,
      "metadata": {
        "ExecuteTime": {
          "end_time": "2017-11-24T22:39:50.992302Z",
          "start_time": "2017-11-24T22:39:50.987284Z"
        },
        "colab": {
          "base_uri": "https://localhost:8080/"
        },
        "id": "aYO4bgVwl-fT",
        "outputId": "da6525e7-3d45-4410-fc0e-b503bc9988fa"
      },
      "outputs": [
        {
          "output_type": "stream",
          "name": "stdout",
          "text": [
            "Final loss: tensor(0.3188)\n"
          ]
        }
      ],
      "source": [
        "print('Final loss:', loss.data)"
      ]
    },
    {
      "cell_type": "markdown",
      "metadata": {
        "id": "XEhPdkjAl-fX"
      },
      "source": [
        "### Visualizando gráfico de perda durante o treinamento"
      ]
    },
    {
      "cell_type": "code",
      "execution_count": 53,
      "metadata": {
        "ExecuteTime": {
          "end_time": "2017-11-24T22:39:51.244869Z",
          "start_time": "2017-11-24T22:39:50.995188Z"
        },
        "colab": {
          "base_uri": "https://localhost:8080/",
          "height": 467
        },
        "id": "_fSYP_KXl-fY",
        "outputId": "134391fc-d3b7-4a4c-da3a-27520ce8c15c"
      },
      "outputs": [
        {
          "output_type": "execute_result",
          "data": {
            "text/plain": [
              "Text(0.5, 0, 'época')"
            ]
          },
          "metadata": {},
          "execution_count": 53
        },
        {
          "output_type": "display_data",
          "data": {
            "text/plain": [
              "<Figure size 640x480 with 1 Axes>"
            ],
            "image/png": "[encoded data removed]"
          },
          "metadata": {}
        }
      ],
      "source": [
        "plt.plot(epochs, losses)\n",
        "plt.xlabel('época')"
      ]
    },
    {
      "cell_type": "markdown",
      "metadata": {
        "id": "eNyGHxAtl-fc"
      },
      "source": [
        "### Visualização usual da perda, somente no final de cada minibatch"
      ]
    },
    {
      "cell_type": "code",
      "execution_count": 54,
      "metadata": {
        "ExecuteTime": {
          "end_time": "2017-11-24T22:39:51.498640Z",
          "start_time": "2017-11-24T22:39:51.246714Z"
        },
        "colab": {
          "base_uri": "https://localhost:8080/",
          "height": 467
        },
        "id": "e2J2aZZVl-fd",
        "outputId": "04400829-5264-427b-c545-b3996a4d8240"
      },
      "outputs": [
        {
          "output_type": "execute_result",
          "data": {
            "text/plain": [
              "Text(0.5, 0, 'época')"
            ]
          },
          "metadata": {},
          "execution_count": 54
        },
        {
          "output_type": "display_data",
          "data": {
            "text/plain": [
              "<Figure size 640x480 with 1 Axes>"
            ],
            "image/png": "[encoded data removed]"
          },
          "metadata": {}
        }
      ],
      "source": [
        "plt.plot(epochs[:5 * n_batches_train +1:n_batches_train], losses[:5 * n_batches_train+1:n_batches_train])\n",
        "plt.xlabel('época')"
      ]
    },
    {
      "cell_type": "markdown",
      "metadata": {
        "id": "eHLCXNLml-fg"
      },
      "source": [
        "# Atividades"
      ]
    },
    {
      "cell_type": "markdown",
      "metadata": {
        "id": "ZCs38MOml-fh"
      },
      "source": [
        "## Perguntas"
      ]
    },
    {
      "cell_type": "markdown",
      "metadata": {
        "id": "Ffg58gb7l-fi"
      },
      "source": [
        "1. Qual é o tamanho do mini-batch?\n",
        "\n",
        "1000\n",
        "\n",
        "2. Em uma época, quantos mini-batches existem?\n",
        "\n",
        "60\n",
        "\n",
        "3. Qual é a definição de época?\n",
        "\n",
        "É uma iteração em que são executadas as sequências de passagem dos dados pelos neurônios para previsão, é calculada a perda da previsão em relação ao dado original e são ajustados os pesos de cada neurônio, conforme a perda e a taxa de treinamento, no backpropagation. A cada época o ciclo se repete, com a convergência dos pesos ao mínimo, minimizando a perda."
      ]
    },
    {
      "cell_type": "markdown",
      "metadata": {
        "id": "DourBpfrl-fl"
      },
      "source": [
        "## Exercícios\n"
      ]
    },
    {
      "cell_type": "markdown",
      "source": [
        "1. Coloque um print no final de cada minibatch, no mesmo estilo do print do final de época, no seguinte estilo:\n",
        "    - Época: 1/4, batch: 600"
      ],
      "metadata": {
        "id": "myxV3G6xqiQ3"
      }
    },
    {
      "cell_type": "code",
      "source": [
        "epochs = []\n",
        "losses = []\n",
        "\n",
        "total_trained_samples = 0\n",
        "\n",
        "for i in range(n_epochs): # for da epoca\n",
        "\n",
        "    for k,(x_train, y_train) in enumerate(loader_train): # for do dataloader\n",
        "\n",
        "        # Transforma a entrada para uma dimensão\n",
        "        inputs = Variable(x_train.view(-1, 28 * 28))\n",
        "        # predict da rede\n",
        "        outputs = model(inputs)\n",
        "\n",
        "        # calcula a perda\n",
        "        loss = criterion(outputs, Variable(y_train))\n",
        "\n",
        "        # zero, backpropagation, ajusta parâmetros pelo gradiente descendente\n",
        "        optimizer.zero_grad()\n",
        "        loss.backward()\n",
        "        optimizer.step()\n",
        "\n",
        "        total_trained_samples += x_train.size(0)\n",
        "        epochs.append(total_trained_samples / total_samples)\n",
        "        losses.append(loss.data)\n",
        "\n",
        "        print(f'Época: {i}/{n_epochs - 1}, Batch: {k}/{len(loader_train)}')"
      ],
      "metadata": {
        "colab": {
          "base_uri": "https://localhost:8080/"
        },
        "id": "j5PtVUt_paNw",
        "outputId": "1ef1f020-0c78-4daf-c97d-6a87c833f355"
      },
      "execution_count": 55,
      "outputs": [
        {
          "output_type": "stream",
          "name": "stdout",
          "text": [
            "Época: 0/4, Batch: 0/60\n",
            "Época: 0/4, Batch: 1/60\n",
            "Época: 0/4, Batch: 2/60\n",
            "Época: 0/4, Batch: 3/60\n",
            "Época: 0/4, Batch: 4/60\n",
            "Época: 0/4, Batch: 5/60\n",
            "Época: 0/4, Batch: 6/60\n",
            "Época: 0/4, Batch: 7/60\n",
            "Época: 0/4, Batch: 8/60\n",
            "Época: 0/4, Batch: 9/60\n",
            "Época: 0/4, Batch: 10/60\n",
            "Época: 0/4, Batch: 11/60\n",
            "Época: 0/4, Batch: 12/60\n",
            "Época: 0/4, Batch: 13/60\n",
            "Época: 0/4, Batch: 14/60\n",
            "Época: 0/4, Batch: 15/60\n",
            "Época: 0/4, Batch: 16/60\n",
            "Época: 0/4, Batch: 17/60\n",
            "Época: 0/4, Batch: 18/60\n",
            "Época: 0/4, Batch: 19/60\n",
            "Época: 0/4, Batch: 20/60\n",
            "Época: 0/4, Batch: 21/60\n",
            "Época: 0/4, Batch: 22/60\n",
            "Época: 0/4, Batch: 23/60\n",
            "Época: 0/4, Batch: 24/60\n",
            "Época: 0/4, Batch: 25/60\n",
            "Época: 0/4, Batch: 26/60\n",
            "Época: 0/4, Batch: 27/60\n",
            "Época: 0/4, Batch: 28/60\n",
            "Época: 0/4, Batch: 29/60\n",
            "Época: 0/4, Batch: 30/60\n",
            "Época: 0/4, Batch: 31/60\n",
            "Época: 0/4, Batch: 32/60\n",
            "Época: 0/4, Batch: 33/60\n",
            "Época: 0/4, Batch: 34/60\n",
            "Época: 0/4, Batch: 35/60\n",
            "Época: 0/4, Batch: 36/60\n",
            "Época: 0/4, Batch: 37/60\n",
            "Época: 0/4, Batch: 38/60\n",
            "Época: 0/4, Batch: 39/60\n",
            "Época: 0/4, Batch: 40/60\n",
            "Época: 0/4, Batch: 41/60\n",
            "Época: 0/4, Batch: 42/60\n",
            "Época: 0/4, Batch: 43/60\n",
            "Época: 0/4, Batch: 44/60\n",
            "Época: 0/4, Batch: 45/60\n",
            "Época: 0/4, Batch: 46/60\n",
            "Época: 0/4, Batch: 47/60\n",
            "Época: 0/4, Batch: 48/60\n",
            "Época: 0/4, Batch: 49/60\n",
            "Época: 0/4, Batch: 50/60\n",
            "Época: 0/4, Batch: 51/60\n",
            "Época: 0/4, Batch: 52/60\n",
            "Época: 0/4, Batch: 53/60\n",
            "Época: 0/4, Batch: 54/60\n",
            "Época: 0/4, Batch: 55/60\n",
            "Época: 0/4, Batch: 56/60\n",
            "Época: 0/4, Batch: 57/60\n",
            "Época: 0/4, Batch: 58/60\n",
            "Época: 0/4, Batch: 59/60\n",
            "Época: 1/4, Batch: 0/60\n",
            "Época: 1/4, Batch: 1/60\n",
            "Época: 1/4, Batch: 2/60\n",
            "Época: 1/4, Batch: 3/60\n",
            "Época: 1/4, Batch: 4/60\n",
            "Época: 1/4, Batch: 5/60\n",
            "Época: 1/4, Batch: 6/60\n",
            "Época: 1/4, Batch: 7/60\n",
            "Época: 1/4, Batch: 8/60\n",
            "Época: 1/4, Batch: 9/60\n",
            "Época: 1/4, Batch: 10/60\n",
            "Época: 1/4, Batch: 11/60\n",
            "Época: 1/4, Batch: 12/60\n",
            "Época: 1/4, Batch: 13/60\n",
            "Época: 1/4, Batch: 14/60\n",
            "Época: 1/4, Batch: 15/60\n",
            "Época: 1/4, Batch: 16/60\n",
            "Época: 1/4, Batch: 17/60\n",
            "Época: 1/4, Batch: 18/60\n",
            "Época: 1/4, Batch: 19/60\n",
            "Época: 1/4, Batch: 20/60\n",
            "Época: 1/4, Batch: 21/60\n",
            "Época: 1/4, Batch: 22/60\n",
            "Época: 1/4, Batch: 23/60\n",
            "Época: 1/4, Batch: 24/60\n",
            "Época: 1/4, Batch: 25/60\n",
            "Época: 1/4, Batch: 26/60\n",
            "Época: 1/4, Batch: 27/60\n",
            "Época: 1/4, Batch: 28/60\n",
            "Época: 1/4, Batch: 29/60\n",
            "Época: 1/4, Batch: 30/60\n",
            "Época: 1/4, Batch: 31/60\n",
            "Época: 1/4, Batch: 32/60\n",
            "Época: 1/4, Batch: 33/60\n",
            "Época: 1/4, Batch: 34/60\n",
            "Época: 1/4, Batch: 35/60\n",
            "Época: 1/4, Batch: 36/60\n",
            "Época: 1/4, Batch: 37/60\n",
            "Época: 1/4, Batch: 38/60\n",
            "Época: 1/4, Batch: 39/60\n",
            "Época: 1/4, Batch: 40/60\n",
            "Época: 1/4, Batch: 41/60\n",
            "Época: 1/4, Batch: 42/60\n",
            "Época: 1/4, Batch: 43/60\n",
            "Época: 1/4, Batch: 44/60\n",
            "Época: 1/4, Batch: 45/60\n",
            "Época: 1/4, Batch: 46/60\n",
            "Época: 1/4, Batch: 47/60\n",
            "Época: 1/4, Batch: 48/60\n",
            "Época: 1/4, Batch: 49/60\n",
            "Época: 1/4, Batch: 50/60\n",
            "Época: 1/4, Batch: 51/60\n",
            "Época: 1/4, Batch: 52/60\n",
            "Época: 1/4, Batch: 53/60\n",
            "Época: 1/4, Batch: 54/60\n",
            "Época: 1/4, Batch: 55/60\n",
            "Época: 1/4, Batch: 56/60\n",
            "Época: 1/4, Batch: 57/60\n",
            "Época: 1/4, Batch: 58/60\n",
            "Época: 1/4, Batch: 59/60\n",
            "Época: 2/4, Batch: 0/60\n",
            "Época: 2/4, Batch: 1/60\n",
            "Época: 2/4, Batch: 2/60\n",
            "Época: 2/4, Batch: 3/60\n",
            "Época: 2/4, Batch: 4/60\n",
            "Época: 2/4, Batch: 5/60\n",
            "Época: 2/4, Batch: 6/60\n",
            "Época: 2/4, Batch: 7/60\n",
            "Época: 2/4, Batch: 8/60\n",
            "Época: 2/4, Batch: 9/60\n",
            "Época: 2/4, Batch: 10/60\n",
            "Época: 2/4, Batch: 11/60\n",
            "Época: 2/4, Batch: 12/60\n",
            "Época: 2/4, Batch: 13/60\n",
            "Época: 2/4, Batch: 14/60\n",
            "Época: 2/4, Batch: 15/60\n",
            "Época: 2/4, Batch: 16/60\n",
            "Época: 2/4, Batch: 17/60\n",
            "Época: 2/4, Batch: 18/60\n",
            "Época: 2/4, Batch: 19/60\n",
            "Época: 2/4, Batch: 20/60\n",
            "Época: 2/4, Batch: 21/60\n",
            "Época: 2/4, Batch: 22/60\n",
            "Época: 2/4, Batch: 23/60\n",
            "Época: 2/4, Batch: 24/60\n",
            "Época: 2/4, Batch: 25/60\n",
            "Época: 2/4, Batch: 26/60\n",
            "Época: 2/4, Batch: 27/60\n",
            "Época: 2/4, Batch: 28/60\n",
            "Época: 2/4, Batch: 29/60\n",
            "Época: 2/4, Batch: 30/60\n",
            "Época: 2/4, Batch: 31/60\n",
            "Época: 2/4, Batch: 32/60\n",
            "Época: 2/4, Batch: 33/60\n",
            "Época: 2/4, Batch: 34/60\n",
            "Época: 2/4, Batch: 35/60\n",
            "Época: 2/4, Batch: 36/60\n",
            "Época: 2/4, Batch: 37/60\n",
            "Época: 2/4, Batch: 38/60\n",
            "Época: 2/4, Batch: 39/60\n",
            "Época: 2/4, Batch: 40/60\n",
            "Época: 2/4, Batch: 41/60\n",
            "Época: 2/4, Batch: 42/60\n",
            "Época: 2/4, Batch: 43/60\n",
            "Época: 2/4, Batch: 44/60\n",
            "Época: 2/4, Batch: 45/60\n",
            "Época: 2/4, Batch: 46/60\n",
            "Época: 2/4, Batch: 47/60\n",
            "Época: 2/4, Batch: 48/60\n",
            "Época: 2/4, Batch: 49/60\n",
            "Época: 2/4, Batch: 50/60\n",
            "Época: 2/4, Batch: 51/60\n",
            "Época: 2/4, Batch: 52/60\n",
            "Época: 2/4, Batch: 53/60\n",
            "Época: 2/4, Batch: 54/60\n",
            "Época: 2/4, Batch: 55/60\n",
            "Época: 2/4, Batch: 56/60\n",
            "Época: 2/4, Batch: 57/60\n",
            "Época: 2/4, Batch: 58/60\n",
            "Época: 2/4, Batch: 59/60\n",
            "Época: 3/4, Batch: 0/60\n",
            "Época: 3/4, Batch: 1/60\n",
            "Época: 3/4, Batch: 2/60\n",
            "Época: 3/4, Batch: 3/60\n",
            "Época: 3/4, Batch: 4/60\n",
            "Época: 3/4, Batch: 5/60\n",
            "Época: 3/4, Batch: 6/60\n",
            "Época: 3/4, Batch: 7/60\n",
            "Época: 3/4, Batch: 8/60\n",
            "Época: 3/4, Batch: 9/60\n",
            "Época: 3/4, Batch: 10/60\n",
            "Época: 3/4, Batch: 11/60\n",
            "Época: 3/4, Batch: 12/60\n",
            "Época: 3/4, Batch: 13/60\n",
            "Época: 3/4, Batch: 14/60\n",
            "Época: 3/4, Batch: 15/60\n",
            "Época: 3/4, Batch: 16/60\n",
            "Época: 3/4, Batch: 17/60\n",
            "Época: 3/4, Batch: 18/60\n",
            "Época: 3/4, Batch: 19/60\n",
            "Época: 3/4, Batch: 20/60\n",
            "Época: 3/4, Batch: 21/60\n",
            "Época: 3/4, Batch: 22/60\n",
            "Época: 3/4, Batch: 23/60\n",
            "Época: 3/4, Batch: 24/60\n",
            "Época: 3/4, Batch: 25/60\n",
            "Época: 3/4, Batch: 26/60\n",
            "Época: 3/4, Batch: 27/60\n",
            "Época: 3/4, Batch: 28/60\n",
            "Época: 3/4, Batch: 29/60\n",
            "Época: 3/4, Batch: 30/60\n",
            "Época: 3/4, Batch: 31/60\n",
            "Época: 3/4, Batch: 32/60\n",
            "Época: 3/4, Batch: 33/60\n",
            "Época: 3/4, Batch: 34/60\n",
            "Época: 3/4, Batch: 35/60\n",
            "Época: 3/4, Batch: 36/60\n",
            "Época: 3/4, Batch: 37/60\n",
            "Época: 3/4, Batch: 38/60\n",
            "Época: 3/4, Batch: 39/60\n",
            "Época: 3/4, Batch: 40/60\n",
            "Época: 3/4, Batch: 41/60\n",
            "Época: 3/4, Batch: 42/60\n",
            "Época: 3/4, Batch: 43/60\n",
            "Época: 3/4, Batch: 44/60\n",
            "Época: 3/4, Batch: 45/60\n",
            "Época: 3/4, Batch: 46/60\n",
            "Época: 3/4, Batch: 47/60\n",
            "Época: 3/4, Batch: 48/60\n",
            "Época: 3/4, Batch: 49/60\n",
            "Época: 3/4, Batch: 50/60\n",
            "Época: 3/4, Batch: 51/60\n",
            "Época: 3/4, Batch: 52/60\n",
            "Época: 3/4, Batch: 53/60\n",
            "Época: 3/4, Batch: 54/60\n",
            "Época: 3/4, Batch: 55/60\n",
            "Época: 3/4, Batch: 56/60\n",
            "Época: 3/4, Batch: 57/60\n",
            "Época: 3/4, Batch: 58/60\n",
            "Época: 3/4, Batch: 59/60\n",
            "Época: 4/4, Batch: 0/60\n",
            "Época: 4/4, Batch: 1/60\n",
            "Época: 4/4, Batch: 2/60\n",
            "Época: 4/4, Batch: 3/60\n",
            "Época: 4/4, Batch: 4/60\n",
            "Época: 4/4, Batch: 5/60\n",
            "Época: 4/4, Batch: 6/60\n",
            "Época: 4/4, Batch: 7/60\n",
            "Época: 4/4, Batch: 8/60\n",
            "Época: 4/4, Batch: 9/60\n",
            "Época: 4/4, Batch: 10/60\n",
            "Época: 4/4, Batch: 11/60\n",
            "Época: 4/4, Batch: 12/60\n",
            "Época: 4/4, Batch: 13/60\n",
            "Época: 4/4, Batch: 14/60\n",
            "Época: 4/4, Batch: 15/60\n",
            "Época: 4/4, Batch: 16/60\n",
            "Época: 4/4, Batch: 17/60\n",
            "Época: 4/4, Batch: 18/60\n",
            "Época: 4/4, Batch: 19/60\n",
            "Época: 4/4, Batch: 20/60\n",
            "Época: 4/4, Batch: 21/60\n",
            "Época: 4/4, Batch: 22/60\n",
            "Época: 4/4, Batch: 23/60\n",
            "Época: 4/4, Batch: 24/60\n",
            "Época: 4/4, Batch: 25/60\n",
            "Época: 4/4, Batch: 26/60\n",
            "Época: 4/4, Batch: 27/60\n",
            "Época: 4/4, Batch: 28/60\n",
            "Época: 4/4, Batch: 29/60\n",
            "Época: 4/4, Batch: 30/60\n",
            "Época: 4/4, Batch: 31/60\n",
            "Época: 4/4, Batch: 32/60\n",
            "Época: 4/4, Batch: 33/60\n",
            "Época: 4/4, Batch: 34/60\n",
            "Época: 4/4, Batch: 35/60\n",
            "Época: 4/4, Batch: 36/60\n",
            "Época: 4/4, Batch: 37/60\n",
            "Época: 4/4, Batch: 38/60\n",
            "Época: 4/4, Batch: 39/60\n",
            "Época: 4/4, Batch: 40/60\n",
            "Época: 4/4, Batch: 41/60\n",
            "Época: 4/4, Batch: 42/60\n",
            "Época: 4/4, Batch: 43/60\n",
            "Época: 4/4, Batch: 44/60\n",
            "Época: 4/4, Batch: 45/60\n",
            "Época: 4/4, Batch: 46/60\n",
            "Época: 4/4, Batch: 47/60\n",
            "Época: 4/4, Batch: 48/60\n",
            "Época: 4/4, Batch: 49/60\n",
            "Época: 4/4, Batch: 50/60\n",
            "Época: 4/4, Batch: 51/60\n",
            "Época: 4/4, Batch: 52/60\n",
            "Época: 4/4, Batch: 53/60\n",
            "Época: 4/4, Batch: 54/60\n",
            "Época: 4/4, Batch: 55/60\n",
            "Época: 4/4, Batch: 56/60\n",
            "Época: 4/4, Batch: 57/60\n",
            "Época: 4/4, Batch: 58/60\n",
            "Época: 4/4, Batch: 59/60\n"
          ]
        }
      ]
    },
    {
      "cell_type": "markdown",
      "source": [
        "2. Altere o tamanho de minibatch (batch_size) algumas vezes, refaça o treinamento, e compare no gráfico abaixo a queda da perda para cada tamanho de minibatch."
      ],
      "metadata": {
        "id": "UtZz_3L0qlND"
      }
    },
    {
      "cell_type": "markdown",
      "source": [
        "##Batch size = 500"
      ],
      "metadata": {
        "id": "HW2hiFB_uSEo"
      }
    },
    {
      "cell_type": "code",
      "source": [
        "batch_size = 500\n",
        "\n",
        "dataset_train = MNIST(dataset_dir, train=True, download=True,\n",
        "                      transform=torchvision.transforms.ToTensor())\n",
        "\n",
        "loader_train = DataLoader(dataset_train, batch_size=batch_size, shuffle=True)\n",
        "\n",
        "print('Número de minibatches de treinamento:', len(loader_train))\n",
        "\n",
        "x_train, y_train = next(iter(loader_train))\n",
        "print(\"\\nDimensões dos dados de um minibatch:\", x_train.size())\n",
        "print(\"Valores mínimo e máximo dos pixels: \", torch.min(x_train), torch.max(x_train))\n",
        "print(\"Tipo dos dados das imagens:         \", type(x_train))\n",
        "print(\"Tipo das classes das imagens:       \", type(y_train))\n",
        "\n",
        "n_batches_train = len(loader_train)\n",
        "total_samples = dataset_train.train_data.size(0)\n",
        "\n",
        "model = torch.nn.Linear(28*28, 10)\n",
        "\n",
        "x = torch.ones(28*28).reshape(1, 784)\n",
        "print(x.shape)\n",
        "predict = model(x)\n",
        "predict\n",
        "\n",
        "n_epochs = 5\n",
        "learningRate = 0.5\n",
        "\n",
        "# Utilizaremos CrossEntropyLoss como função de perda\n",
        "criterion = torch.nn.CrossEntropyLoss()\n",
        "\n",
        "# Gradiente descendente\n",
        "optimizer = torch.optim.SGD(model.parameters(), lr=learningRate)\n",
        "\n",
        "epochs = []\n",
        "losses = []\n",
        "\n",
        "total_trained_samples = 0\n",
        "\n",
        "for i in range(n_epochs): # for da epoca\n",
        "\n",
        "    for k,(x_train, y_train) in enumerate(loader_train): # for do dataloader\n",
        "\n",
        "        # Transforma a entrada para uma dimensão\n",
        "        inputs = Variable(x_train.view(-1, 28 * 28))\n",
        "        # predict da rede\n",
        "        outputs = model(inputs)\n",
        "\n",
        "        # calcula a perda\n",
        "        loss = criterion(outputs, Variable(y_train))\n",
        "\n",
        "        # zero, backpropagation, ajusta parâmetros pelo gradiente descendente\n",
        "        optimizer.zero_grad()\n",
        "        loss.backward()\n",
        "        optimizer.step()\n",
        "\n",
        "        total_trained_samples += x_train.size(0)\n",
        "        epochs.append(total_trained_samples / total_samples)\n",
        "        losses.append(loss.data)\n",
        "\n",
        "print('Final loss:', loss.data)"
      ],
      "metadata": {
        "colab": {
          "base_uri": "https://localhost:8080/"
        },
        "id": "mCX4zVUYqXyY",
        "outputId": "82ab181f-562b-419c-8d26-259cdacd9bb2"
      },
      "execution_count": 58,
      "outputs": [
        {
          "output_type": "stream",
          "name": "stdout",
          "text": [
            "Número de minibatches de treinamento: 120\n",
            "\n",
            "Dimensões dos dados de um minibatch: torch.Size([500, 1, 28, 28])\n",
            "Valores mínimo e máximo dos pixels:  tensor(0.) tensor(1.)\n",
            "Tipo dos dados das imagens:          <class 'torch.Tensor'>\n",
            "Tipo das classes das imagens:        <class 'torch.Tensor'>\n",
            "torch.Size([1, 784])\n",
            "Final loss: tensor(0.3051)\n"
          ]
        }
      ]
    },
    {
      "cell_type": "code",
      "source": [
        "plt.plot(epochs, losses)\n",
        "plt.xlabel('época')"
      ],
      "metadata": {
        "colab": {
          "base_uri": "https://localhost:8080/",
          "height": 467
        },
        "id": "pAQnTWSNq_Vb",
        "outputId": "01717f39-5774-4bd3-dcbf-250091183a8c"
      },
      "execution_count": 59,
      "outputs": [
        {
          "output_type": "execute_result",
          "data": {
            "text/plain": [
              "Text(0.5, 0, 'época')"
            ]
          },
          "metadata": {},
          "execution_count": 59
        },
        {
          "output_type": "display_data",
          "data": {
            "text/plain": [
              "<Figure size 640x480 with 1 Axes>"
            ],
            "image/png": "[encoded data removed]"
          },
          "metadata": {}
        }
      ]
    },
    {
      "cell_type": "code",
      "source": [
        "plt.plot(epochs[:5 * n_batches_train +1:n_batches_train], losses[:5 * n_batches_train+1:n_batches_train])\n",
        "plt.xlabel('época')"
      ],
      "metadata": {
        "colab": {
          "base_uri": "https://localhost:8080/",
          "height": 467
        },
        "id": "1I-WefwhrCVV",
        "outputId": "7db9dfda-c9d6-4b24-aee5-6c2f6fe57d47"
      },
      "execution_count": 60,
      "outputs": [
        {
          "output_type": "execute_result",
          "data": {
            "text/plain": [
              "Text(0.5, 0, 'época')"
            ]
          },
          "metadata": {},
          "execution_count": 60
        },
        {
          "output_type": "display_data",
          "data": {
            "text/plain": [
              "<Figure size 640x480 with 1 Axes>"
            ],
            "image/png": "[encoded data removed]"
          },
          "metadata": {}
        }
      ]
    },
    {
      "cell_type": "markdown",
      "source": [
        "##Batch size = 200"
      ],
      "metadata": {
        "id": "cq7l4jehuNCo"
      }
    },
    {
      "cell_type": "code",
      "source": [
        "batch_size = 200\n",
        "\n",
        "dataset_train = MNIST(dataset_dir, train=True, download=True,\n",
        "                      transform=torchvision.transforms.ToTensor())\n",
        "\n",
        "loader_train = DataLoader(dataset_train, batch_size=batch_size, shuffle=True)\n",
        "\n",
        "print('Número de minibatches de treinamento:', len(loader_train))\n",
        "\n",
        "x_train, y_train = next(iter(loader_train))\n",
        "print(\"\\nDimensões dos dados de um minibatch:\", x_train.size())\n",
        "print(\"Valores mínimo e máximo dos pixels: \", torch.min(x_train), torch.max(x_train))\n",
        "print(\"Tipo dos dados das imagens:         \", type(x_train))\n",
        "print(\"Tipo das classes das imagens:       \", type(y_train))\n",
        "\n",
        "n_batches_train = len(loader_train)\n",
        "total_samples = dataset_train.train_data.size(0)\n",
        "\n",
        "model = torch.nn.Linear(28*28, 10)\n",
        "\n",
        "x = torch.ones(28*28).reshape(1, 784)\n",
        "print(x.shape)\n",
        "predict = model(x)\n",
        "predict\n",
        "\n",
        "n_epochs = 5\n",
        "learningRate = 0.5\n",
        "\n",
        "# Utilizaremos CrossEntropyLoss como função de perda\n",
        "criterion = torch.nn.CrossEntropyLoss()\n",
        "\n",
        "# Gradiente descendente\n",
        "optimizer = torch.optim.SGD(model.parameters(), lr=learningRate)\n",
        "\n",
        "epochs = []\n",
        "losses = []\n",
        "\n",
        "total_trained_samples = 0\n",
        "\n",
        "for i in range(n_epochs): # for da epoca\n",
        "\n",
        "    for k,(x_train, y_train) in enumerate(loader_train): # for do dataloader\n",
        "\n",
        "        # Transforma a entrada para uma dimensão\n",
        "        inputs = Variable(x_train.view(-1, 28 * 28))\n",
        "        # predict da rede\n",
        "        outputs = model(inputs)\n",
        "\n",
        "        # calcula a perda\n",
        "        loss = criterion(outputs, Variable(y_train))\n",
        "\n",
        "        # zero, backpropagation, ajusta parâmetros pelo gradiente descendente\n",
        "        optimizer.zero_grad()\n",
        "        loss.backward()\n",
        "        optimizer.step()\n",
        "\n",
        "        total_trained_samples += x_train.size(0)\n",
        "        epochs.append(total_trained_samples / total_samples)\n",
        "        losses.append(loss.data)\n",
        "\n",
        "print('Final loss:', loss.data)"
      ],
      "metadata": {
        "colab": {
          "base_uri": "https://localhost:8080/"
        },
        "id": "HLjo1xvKrher",
        "outputId": "adff47b3-f529-4c15-f802-23e87d9c2993"
      },
      "execution_count": 61,
      "outputs": [
        {
          "output_type": "stream",
          "name": "stdout",
          "text": [
            "Número de minibatches de treinamento: 300\n",
            "\n",
            "Dimensões dos dados de um minibatch: torch.Size([200, 1, 28, 28])\n",
            "Valores mínimo e máximo dos pixels:  tensor(0.) tensor(1.)\n",
            "Tipo dos dados das imagens:          <class 'torch.Tensor'>\n",
            "Tipo das classes das imagens:        <class 'torch.Tensor'>\n",
            "torch.Size([1, 784])\n",
            "Final loss: tensor(0.3082)\n"
          ]
        }
      ]
    },
    {
      "cell_type": "code",
      "source": [
        "plt.plot(epochs, losses)\n",
        "plt.xlabel('época')"
      ],
      "metadata": {
        "colab": {
          "base_uri": "https://localhost:8080/",
          "height": 467
        },
        "id": "du5XLYnlrx6v",
        "outputId": "7f3aabf8-b9bd-4586-a485-04789ed8b5bb"
      },
      "execution_count": 62,
      "outputs": [
        {
          "output_type": "execute_result",
          "data": {
            "text/plain": [
              "Text(0.5, 0, 'época')"
            ]
          },
          "metadata": {},
          "execution_count": 62
        },
        {
          "output_type": "display_data",
          "data": {
            "text/plain": [
              "<Figure size 640x480 with 1 Axes>"
            ],
            "image/png": "[encoded data removed]"
          },
          "metadata": {}
        }
      ]
    },
    {
      "cell_type": "code",
      "source": [
        "plt.plot(epochs[:5 * n_batches_train +1:n_batches_train], losses[:5 * n_batches_train+1:n_batches_train])\n",
        "plt.xlabel('época')"
      ],
      "metadata": {
        "colab": {
          "base_uri": "https://localhost:8080/",
          "height": 467
        },
        "id": "vdQVjHZ3r1dE",
        "outputId": "5a05f0c9-840f-4000-a144-63b4b821df1e"
      },
      "execution_count": 63,
      "outputs": [
        {
          "output_type": "execute_result",
          "data": {
            "text/plain": [
              "Text(0.5, 0, 'época')"
            ]
          },
          "metadata": {},
          "execution_count": 63
        },
        {
          "output_type": "display_data",
          "data": {
            "text/plain": [
              "<Figure size 640x480 with 1 Axes>"
            ],
            "image/png": "[encoded data removed]"
          },
          "metadata": {}
        }
      ]
    },
    {
      "cell_type": "markdown",
      "source": [
        "##Batch size = 100"
      ],
      "metadata": {
        "id": "e8peRIPhuFRM"
      }
    },
    {
      "cell_type": "code",
      "source": [
        "batch_size = 100\n",
        "\n",
        "dataset_train = MNIST(dataset_dir, train=True, download=True,\n",
        "                      transform=torchvision.transforms.ToTensor())\n",
        "\n",
        "loader_train = DataLoader(dataset_train, batch_size=batch_size, shuffle=True)\n",
        "\n",
        "print('Número de minibatches de treinamento:', len(loader_train))\n",
        "\n",
        "x_train, y_train = next(iter(loader_train))\n",
        "print(\"\\nDimensões dos dados de um minibatch:\", x_train.size())\n",
        "print(\"Valores mínimo e máximo dos pixels: \", torch.min(x_train), torch.max(x_train))\n",
        "print(\"Tipo dos dados das imagens:         \", type(x_train))\n",
        "print(\"Tipo das classes das imagens:       \", type(y_train))\n",
        "\n",
        "n_batches_train = len(loader_train)\n",
        "total_samples = dataset_train.train_data.size(0)\n",
        "\n",
        "model = torch.nn.Linear(28*28, 10)\n",
        "\n",
        "x = torch.ones(28*28).reshape(1, 784)\n",
        "print(x.shape)\n",
        "predict = model(x)\n",
        "predict\n",
        "\n",
        "n_epochs = 5\n",
        "learningRate = 0.5\n",
        "\n",
        "# Utilizaremos CrossEntropyLoss como função de perda\n",
        "criterion = torch.nn.CrossEntropyLoss()\n",
        "\n",
        "# Gradiente descendente\n",
        "optimizer = torch.optim.SGD(model.parameters(), lr=learningRate)\n",
        "\n",
        "epochs = []\n",
        "losses = []\n",
        "\n",
        "total_trained_samples = 0\n",
        "\n",
        "for i in range(n_epochs): # for da epoca\n",
        "\n",
        "    for k,(x_train, y_train) in enumerate(loader_train): # for do dataloader\n",
        "\n",
        "        # Transforma a entrada para uma dimensão\n",
        "        inputs = Variable(x_train.view(-1, 28 * 28))\n",
        "        # predict da rede\n",
        "        outputs = model(inputs)\n",
        "\n",
        "        # calcula a perda\n",
        "        loss = criterion(outputs, Variable(y_train))\n",
        "\n",
        "        # zero, backpropagation, ajusta parâmetros pelo gradiente descendente\n",
        "        optimizer.zero_grad()\n",
        "        loss.backward()\n",
        "        optimizer.step()\n",
        "\n",
        "        total_trained_samples += x_train.size(0)\n",
        "        epochs.append(total_trained_samples / total_samples)\n",
        "        losses.append(loss.data)\n",
        "\n",
        "print('Final loss:', loss.data)"
      ],
      "metadata": {
        "colab": {
          "base_uri": "https://localhost:8080/"
        },
        "id": "rRphzkActmLI",
        "outputId": "6eca11b6-7486-4780-ae5f-466e9472bc81"
      },
      "execution_count": 70,
      "outputs": [
        {
          "output_type": "stream",
          "name": "stdout",
          "text": [
            "Número de minibatches de treinamento: 600\n",
            "\n",
            "Dimensões dos dados de um minibatch: torch.Size([100, 1, 28, 28])\n",
            "Valores mínimo e máximo dos pixels:  tensor(0.) tensor(1.)\n",
            "Tipo dos dados das imagens:          <class 'torch.Tensor'>\n",
            "Tipo das classes das imagens:        <class 'torch.Tensor'>\n",
            "torch.Size([1, 784])\n",
            "Final loss: tensor(0.1681)\n"
          ]
        }
      ]
    },
    {
      "cell_type": "code",
      "source": [
        "plt.plot(epochs, losses)\n",
        "plt.xlabel('época')"
      ],
      "metadata": {
        "colab": {
          "base_uri": "https://localhost:8080/",
          "height": 467
        },
        "id": "rxewlndttqdv",
        "outputId": "1db4645c-50d2-40b9-dc9a-906731b57e22"
      },
      "execution_count": 71,
      "outputs": [
        {
          "output_type": "execute_result",
          "data": {
            "text/plain": [
              "Text(0.5, 0, 'época')"
            ]
          },
          "metadata": {},
          "execution_count": 71
        },
        {
          "output_type": "display_data",
          "data": {
            "text/plain": [
              "<Figure size 640x480 with 1 Axes>"
            ],
            "image/png": "[encoded data removed]"
          },
          "metadata": {}
        }
      ]
    },
    {
      "cell_type": "code",
      "source": [
        "plt.plot(epochs[:5 * n_batches_train +1:n_batches_train], losses[:5 * n_batches_train+1:n_batches_train])\n",
        "plt.xlabel('época')"
      ],
      "metadata": {
        "colab": {
          "base_uri": "https://localhost:8080/",
          "height": 467
        },
        "id": "v5zKpW_wttju",
        "outputId": "b8aa8b4f-1edd-408f-a369-b0060d7a995f"
      },
      "execution_count": 72,
      "outputs": [
        {
          "output_type": "execute_result",
          "data": {
            "text/plain": [
              "Text(0.5, 0, 'época')"
            ]
          },
          "metadata": {},
          "execution_count": 72
        },
        {
          "output_type": "display_data",
          "data": {
            "text/plain": [
              "<Figure size 640x480 with 1 Axes>"
            ],
            "image/png": "[encoded data removed]"
          },
          "metadata": {}
        }
      ]
    },
    {
      "cell_type": "markdown",
      "source": [
        "##Batch size = 2000"
      ],
      "metadata": {
        "id": "RKak-V2wtupR"
      }
    },
    {
      "cell_type": "code",
      "source": [
        "batch_size = 2000\n",
        "\n",
        "dataset_train = MNIST(dataset_dir, train=True, download=True,\n",
        "                      transform=torchvision.transforms.ToTensor())\n",
        "\n",
        "loader_train = DataLoader(dataset_train, batch_size=batch_size, shuffle=True)\n",
        "\n",
        "print('Número de minibatches de treinamento:', len(loader_train))\n",
        "\n",
        "x_train, y_train = next(iter(loader_train))\n",
        "print(\"\\nDimensões dos dados de um minibatch:\", x_train.size())\n",
        "print(\"Valores mínimo e máximo dos pixels: \", torch.min(x_train), torch.max(x_train))\n",
        "print(\"Tipo dos dados das imagens:         \", type(x_train))\n",
        "print(\"Tipo das classes das imagens:       \", type(y_train))\n",
        "\n",
        "n_batches_train = len(loader_train)\n",
        "total_samples = dataset_train.train_data.size(0)\n",
        "\n",
        "model = torch.nn.Linear(28*28, 10)\n",
        "\n",
        "x = torch.ones(28*28).reshape(1, 784)\n",
        "print(x.shape)\n",
        "predict = model(x)\n",
        "predict\n",
        "\n",
        "n_epochs = 5\n",
        "learningRate = 0.5\n",
        "\n",
        "# Utilizaremos CrossEntropyLoss como função de perda\n",
        "criterion = torch.nn.CrossEntropyLoss()\n",
        "\n",
        "# Gradiente descendente\n",
        "optimizer = torch.optim.SGD(model.parameters(), lr=learningRate)\n",
        "\n",
        "epochs = []\n",
        "losses = []\n",
        "\n",
        "total_trained_samples = 0\n",
        "\n",
        "for i in range(n_epochs): # for da epoca\n",
        "\n",
        "    for k,(x_train, y_train) in enumerate(loader_train): # for do dataloader\n",
        "\n",
        "        # Transforma a entrada para uma dimensão\n",
        "        inputs = Variable(x_train.view(-1, 28 * 28))\n",
        "        # predict da rede\n",
        "        outputs = model(inputs)\n",
        "\n",
        "        # calcula a perda\n",
        "        loss = criterion(outputs, Variable(y_train))\n",
        "\n",
        "        # zero, backpropagation, ajusta parâmetros pelo gradiente descendente\n",
        "        optimizer.zero_grad()\n",
        "        loss.backward()\n",
        "        optimizer.step()\n",
        "\n",
        "        total_trained_samples += x_train.size(0)\n",
        "        epochs.append(total_trained_samples / total_samples)\n",
        "        losses.append(loss.data)\n",
        "\n",
        "print('Final loss:', loss.data)"
      ],
      "metadata": {
        "colab": {
          "base_uri": "https://localhost:8080/"
        },
        "id": "sLWdFSq5r5_8",
        "outputId": "703514d7-face-4be3-ea19-a3a90e19e8bb"
      },
      "execution_count": 64,
      "outputs": [
        {
          "output_type": "stream",
          "name": "stdout",
          "text": [
            "Número de minibatches de treinamento: 30\n",
            "\n",
            "Dimensões dos dados de um minibatch: torch.Size([2000, 1, 28, 28])\n",
            "Valores mínimo e máximo dos pixels:  tensor(0.) tensor(1.)\n",
            "Tipo dos dados das imagens:          <class 'torch.Tensor'>\n",
            "Tipo das classes das imagens:        <class 'torch.Tensor'>\n",
            "torch.Size([1, 784])\n",
            "Final loss: tensor(0.3374)\n"
          ]
        }
      ]
    },
    {
      "cell_type": "code",
      "source": [
        "plt.plot(epochs, losses)\n",
        "plt.xlabel('época')"
      ],
      "metadata": {
        "colab": {
          "base_uri": "https://localhost:8080/",
          "height": 467
        },
        "id": "wCxBuSq-sEGk",
        "outputId": "85e8a67d-4f72-488c-e795-cd767efbdbd8"
      },
      "execution_count": 65,
      "outputs": [
        {
          "output_type": "execute_result",
          "data": {
            "text/plain": [
              "Text(0.5, 0, 'época')"
            ]
          },
          "metadata": {},
          "execution_count": 65
        },
        {
          "output_type": "display_data",
          "data": {
            "text/plain": [
              "<Figure size 640x480 with 1 Axes>"
            ],
            "image/png": "[encoded data removed]"
          },
          "metadata": {}
        }
      ]
    },
    {
      "cell_type": "code",
      "source": [
        "plt.plot(epochs[:5 * n_batches_train +1:n_batches_train], losses[:5 * n_batches_train+1:n_batches_train])\n",
        "plt.xlabel('época')"
      ],
      "metadata": {
        "colab": {
          "base_uri": "https://localhost:8080/",
          "height": 467
        },
        "id": "Ya8pm_xlsGg_",
        "outputId": "c3d35f7d-7a02-4503-ba1b-e804e853f37b"
      },
      "execution_count": 66,
      "outputs": [
        {
          "output_type": "execute_result",
          "data": {
            "text/plain": [
              "Text(0.5, 0, 'época')"
            ]
          },
          "metadata": {},
          "execution_count": 66
        },
        {
          "output_type": "display_data",
          "data": {
            "text/plain": [
              "<Figure size 640x480 with 1 Axes>"
            ],
            "image/png": "[encoded data removed]"
          },
          "metadata": {}
        }
      ]
    },
    {
      "cell_type": "markdown",
      "source": [
        "##Batch size = 3000"
      ],
      "metadata": {
        "id": "paLoG2uOt2TM"
      }
    },
    {
      "cell_type": "code",
      "source": [
        "batch_size = 3000\n",
        "\n",
        "dataset_train = MNIST(dataset_dir, train=True, download=True,\n",
        "                      transform=torchvision.transforms.ToTensor())\n",
        "\n",
        "loader_train = DataLoader(dataset_train, batch_size=batch_size, shuffle=True)\n",
        "\n",
        "print('Número de minibatches de treinamento:', len(loader_train))\n",
        "\n",
        "x_train, y_train = next(iter(loader_train))\n",
        "print(\"\\nDimensões dos dados de um minibatch:\", x_train.size())\n",
        "print(\"Valores mínimo e máximo dos pixels: \", torch.min(x_train), torch.max(x_train))\n",
        "print(\"Tipo dos dados das imagens:         \", type(x_train))\n",
        "print(\"Tipo das classes das imagens:       \", type(y_train))\n",
        "\n",
        "n_batches_train = len(loader_train)\n",
        "total_samples = dataset_train.train_data.size(0)\n",
        "\n",
        "model = torch.nn.Linear(28*28, 10)\n",
        "\n",
        "x = torch.ones(28*28).reshape(1, 784)\n",
        "print(x.shape)\n",
        "predict = model(x)\n",
        "predict\n",
        "\n",
        "n_epochs = 5\n",
        "learningRate = 0.5\n",
        "\n",
        "# Utilizaremos CrossEntropyLoss como função de perda\n",
        "criterion = torch.nn.CrossEntropyLoss()\n",
        "\n",
        "# Gradiente descendente\n",
        "optimizer = torch.optim.SGD(model.parameters(), lr=learningRate)\n",
        "\n",
        "epochs = []\n",
        "losses = []\n",
        "\n",
        "total_trained_samples = 0\n",
        "\n",
        "for i in range(n_epochs): # for da epoca\n",
        "\n",
        "    for k,(x_train, y_train) in enumerate(loader_train): # for do dataloader\n",
        "\n",
        "        # Transforma a entrada para uma dimensão\n",
        "        inputs = Variable(x_train.view(-1, 28 * 28))\n",
        "        # predict da rede\n",
        "        outputs = model(inputs)\n",
        "\n",
        "        # calcula a perda\n",
        "        loss = criterion(outputs, Variable(y_train))\n",
        "\n",
        "        # zero, backpropagation, ajusta parâmetros pelo gradiente descendente\n",
        "        optimizer.zero_grad()\n",
        "        loss.backward()\n",
        "        optimizer.step()\n",
        "\n",
        "        total_trained_samples += x_train.size(0)\n",
        "        epochs.append(total_trained_samples / total_samples)\n",
        "        losses.append(loss.data)\n",
        "\n",
        "print('Final loss:', loss.data)"
      ],
      "metadata": {
        "colab": {
          "base_uri": "https://localhost:8080/"
        },
        "id": "o_4NHFMhsWZK",
        "outputId": "750c414c-b5c7-4152-d05e-86986ab3f0c6"
      },
      "execution_count": 67,
      "outputs": [
        {
          "output_type": "stream",
          "name": "stdout",
          "text": [
            "Número de minibatches de treinamento: 20\n",
            "\n",
            "Dimensões dos dados de um minibatch: torch.Size([3000, 1, 28, 28])\n",
            "Valores mínimo e máximo dos pixels:  tensor(0.) tensor(1.)\n",
            "Tipo dos dados das imagens:          <class 'torch.Tensor'>\n",
            "Tipo das classes das imagens:        <class 'torch.Tensor'>\n",
            "torch.Size([1, 784])\n",
            "Final loss: tensor(0.3868)\n"
          ]
        }
      ]
    },
    {
      "cell_type": "code",
      "source": [
        "plt.plot(epochs, losses)\n",
        "plt.xlabel('época')"
      ],
      "metadata": {
        "colab": {
          "base_uri": "https://localhost:8080/",
          "height": 467
        },
        "id": "kO8CFtCEsgzI",
        "outputId": "b645b58e-a772-44f4-86eb-1f22a37c86e5"
      },
      "execution_count": 68,
      "outputs": [
        {
          "output_type": "execute_result",
          "data": {
            "text/plain": [
              "Text(0.5, 0, 'época')"
            ]
          },
          "metadata": {},
          "execution_count": 68
        },
        {
          "output_type": "display_data",
          "data": {
            "text/plain": [
              "<Figure size 640x480 with 1 Axes>"
            ],
            "image/png": "[encoded data removed]"
          },
          "metadata": {}
        }
      ]
    },
    {
      "cell_type": "code",
      "source": [
        "plt.plot(epochs[:5 * n_batches_train +1:n_batches_train], losses[:5 * n_batches_train+1:n_batches_train])\n",
        "plt.xlabel('época')"
      ],
      "metadata": {
        "colab": {
          "base_uri": "https://localhost:8080/",
          "height": 467
        },
        "id": "KNlOLSBGshik",
        "outputId": "dd1aa0d1-eb8c-4bb3-db5d-450f33327936"
      },
      "execution_count": 69,
      "outputs": [
        {
          "output_type": "execute_result",
          "data": {
            "text/plain": [
              "Text(0.5, 0, 'época')"
            ]
          },
          "metadata": {},
          "execution_count": 69
        },
        {
          "output_type": "display_data",
          "data": {
            "text/plain": [
              "<Figure size 640x480 with 1 Axes>"
            ],
            "image/png": "[encoded data removed]"
          },
          "metadata": {}
        }
      ]
    },
    {
      "cell_type": "markdown",
      "metadata": {
        "id": "Dite8MBJl-fn"
      },
      "source": [
        "## Conclusões sobre os experimentos deste notebook\n",
        "\n",
        "O aumento do tamanho do batch e, por conseguinte, a diminuição de quantidade de batches, parece trazer um decaimento da perda mais constante, levando à convergência mais suavemente, mas precisando de mais épocas para chegar à perda mínima.\n",
        "Batches de tamanhos menores e, por conseguinte, em maior quantidade, permitem chegar à menor perda rapidamente, mas ao diminuir muito o tamanho do batch, a perda começa a aumentar no final das épocas.\n"
      ]
    }
  ],
  "metadata": {
    "accelerator": "TPU",
    "colab": {
      "provenance": []
    },
    "kernelspec": {
      "display_name": "Python 3.10.2 64-bit",
      "language": "python",
      "name": "python3"
    },
    "language_info": {
      "name": "python",
      "version": "3.10.2"
    },
    "vscode": {
      "interpreter": {
        "hash": "5fe3e6f0cdaab8afdc61c52912fda83f7c0a71baaea1897dd7498e2df01e69ec"
      }
    }
  },
  "nbformat": 4,
  "nbformat_minor": 0
}